{
 "cells": [
  {
   "cell_type": "code",
   "execution_count": null,
   "id": "cff11ca7-aab1-492b-90c1-1fc5d00faa22",
   "metadata": {
    "ExecuteTime": {
     "end_time": "2025-06-29T15:37:46.731901Z",
     "start_time": "2025-06-29T15:37:44.305593Z"
    },
    "tags": [],
    "trusted": true
   },
   "outputs": [],
   "source": [
    "import copy # copy variables\n",
    "import os   # manage paths\n",
    "\n",
    "import uproot   # use of root files\n",
    "import awkward as ak    # nested, variable sized data\n",
    "import vector   # lorentz vectors\n",
    "vector.register_awkward()\n",
    "import matplotlib.pyplot as plt # plotting\n",
    "import atlasopenmagic as atom\n",
    "\n",
    "from src.parse_atlas import (parser, consts, schemas, combinatorics)\n",
    "\n",
    "import traceback\n",
    "%load_ext autoreload\n",
    "%autoreload 2"
   ]
  },
  {
   "cell_type": "code",
   "execution_count": null,
   "id": "b52b41e8",
   "metadata": {},
   "outputs": [],
   "source": [
    "#TESTING MC files\n",
    "mc_rec_id = atlasparser.fetch_mc_files_ids('2024', is_random=True)\n",
    "all_metadata = atom.get_metadata(mc_rec_id)\n",
    "urls = atom.get_urls(mc_rec_id)\n",
    "atlasparser.parsing_pipeline(schemas.GENERIC_SCHEMA, files_ids=urls)"
   ]
  },
  {
   "cell_type": "code",
   "execution_count": null,
   "id": "e7439f4d",
   "metadata": {},
   "outputs": [],
   "source": [
    "#TESTING MAIN PIPELINE\n",
    "import main_pipeline\n",
    "\n",
    "main_pipeline.run()"
   ]
  },
  {
   "cell_type": "code",
   "execution_count": null,
   "id": "6579ac4a",
   "metadata": {},
   "outputs": [],
   "source": [
    "#TEST FOR KEYS OF ROOT FILE\n",
    "from src.parse_atlas import parser, schemas\n",
    "import atlasopenmagic as atom\n",
    "parse = parser.ATLAS_Parser()\n",
    "rand_id = parse.fetch_mc_files_ids(\n",
    "    '2024', is_random=True)\n",
    "uri = atom.get_urls(rand_id)[0]\n",
    "# testing = parse.testing_load_file_as_object(uri)\n",
    "testing = parse._parse_file(\n",
    "    schema=schemas.GENERIC_SCHEMA, \n",
    "    file_index=uri)"
   ]
  },
  {
   "cell_type": "code",
   "execution_count": null,
   "id": "86a76cef",
   "metadata": {},
   "outputs": [],
   "source": [
    "dir(testing)\n",
    "testing.fields"
   ]
  },
  {
   "cell_type": "code",
   "execution_count": null,
   "id": "35b48991-4b0c-4b3a-a23e-00e285c71b4b",
   "metadata": {
    "ExecuteTime": {
     "end_time": "2025-06-21T17:09:40.129899Z",
     "start_time": "2025-06-21T17:09:40.028552Z"
    },
    "tags": [],
    "trusted": true
   },
   "outputs": [],
   "source": [
    "GeV = 1000.\n",
    "\n",
    "def selected_electrons(el):\n",
    "    return el[(el.pt > 10 * GeV) & (abs(el.eta) < 2.47)]\n",
    "\n",
    "def selected_muons(mu):\n",
    "    return mu[(mu.pt > 10 * GeV) & (abs(mu.eta) < 2.47)]\n",
    "\n",
    "def selected_jets(j):\n",
    "    return j[(j.pt > 10 * GeV) & (abs(j.eta) < 2.47)]\n",
    "\n",
    "def no_overlap(obj1, obj2, deltaR=0.4):\n",
    "    obj1, obj2 = ak.unzip(ak.cartesian([obj1, obj2], nested=True))\n",
    "    return ak.all(obj1.deltaR(obj2) > deltaR, axis=-1)\n",
    "\n",
    "def mjjj(jets):\n",
    "    candidates = ak.combinations(jets, 3)\n",
    "    j1, j2, j3 = ak.unzip(candidates)\n",
    "    candidates[\"p4\"] = j1 + j2 + j3\n",
    "    candidates = candidates[ak.argmax(candidates.p4.pt, axis=1, keepdims=True)]\n",
    "    return candidates.p4.mass\n",
    "\n",
    "def processed(events):\n",
    "    events = copy.copy(events) # shallow copy\n",
    "    events[\"Electrons\"] = selected_electrons(events.Electrons)\n",
    "    events[\"Muons\"] = selected_muons(events.Muons)\n",
    "    events[\"Jets\"] = selected_jets(events.Jets)\n",
    "    events[\"Jets\"] = events.Jets[no_overlap(events.Jets, events.Electrons)]\n",
    "    events = events[\n",
    "        (ak.num(events.Jets) >= 4) # at least 4 jets\n",
    "        & ((ak.num(events.Electrons) + ak.num(events.Muons)) == 1) # exactly one lepton\n",
    "    ]\n",
    "    return ak.to_packed(events)\n",
    "\n",
    "events = processed(atlasparser.events)\n",
    "plt.hist(ak.flatten(mjjj(events.Jets) / GeV, axis=None), bins=100)\n",
    "plt.xlabel(\"Reconstructed Top Quark Mass (GeV)\")\n",
    "plt.ylabel(\"Number of Events\")\n",
    "plt.title(\"Distribution of Reconstructed Top Quark Mass\")\n",
    "plt.axvline(172.76, color='r', linestyle='dashed', linewidth=2, label='Expected Top Quark Mass')\n",
    "plt.legend()\n",
    "plt.show()\n",
    "\n",
    "print('Total events:', len(atlasparser.events))\n",
    "print('Events after filtering:', len(events))"
   ]
  },
  {
   "cell_type": "code",
   "execution_count": null,
   "id": "62bbd7e9-30d8-4976-a96d-e9f692838c87",
   "metadata": {},
   "outputs": [],
   "source": [
    "def selected_electrons(el):\n",
    "    return el[(el.pt > 10 * GeV) & (abs(el.eta) < 2.47)]\n",
    "\n",
    "def electron_posi_muon_antimuon(events):\n",
    "    events = copy.copy(events) # shallow copy\n",
    "    events[\"Electrons\"] = selected_electrons(events.Electrons)\n",
    "    events[\"Muons\"] = selected_muons(events.Muons)\n",
    "    events[\"Electrons\", \"is_neg\"] = events.Electrons.charge < 0\n",
    "    events[\"Muons\", \"is_neg\"] = events.Muons.charge < 0\n",
    "    events = events[\n",
    "        (ak.num(events.Electrons) == 2) \n",
    "        & (ak.num(events.Muons) == 2)\n",
    "        # & (ak.num(events.Electrons[events.Electrons.is_neg]) == 1)\n",
    "        # & (ak.num(events.Muons[events.Muons.is_neg]) == 1)\n",
    "    ]\n",
    "    return ak.to_packed(events)\n",
    "\n",
    "events = electron_posi_muon_antimuon(atlasparser.events)\n",
    "plt.hist(ak.flatten(events) / GeV, axis=None, bins=100)\n",
    "plt.xlabel(\"Reconstructed Top Quark Mass (GeV)\")\n",
    "plt.ylabel(\"Number of Events\")\n",
    "plt.title(\"Distribution of Reconstructed Top Quark Mass\")\n",
    "plt.axvline(172.76, color='r', linestyle='dashed', linewidth=2, label='Expected Top Quark Mass')\n",
    "plt.legend()\n",
    "plt.show()\n",
    "\n",
    "print('Total events:', len(atlasparser.events))\n",
    "print('Events after filtering:', len(events))"
   ]
  },
  {
   "cell_type": "code",
   "execution_count": null,
   "id": "01e9d32f",
   "metadata": {},
   "outputs": [],
   "source": []
  }
 ],
 "metadata": {
  "kernelspec": {
   "display_name": "venv",
   "language": "python",
   "name": "python3"
  },
  "language_info": {
   "codemirror_mode": {
    "name": "ipython",
    "version": 3
   },
   "file_extension": ".py",
   "mimetype": "text/x-python",
   "name": "python",
   "nbconvert_exporter": "python",
   "pygments_lexer": "ipython3",
   "version": "3.13.3"
  }
 },
 "nbformat": 4,
 "nbformat_minor": 5
}
