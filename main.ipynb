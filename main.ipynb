{
 "cells": [
  {
   "cell_type": "code",
   "execution_count": null,
   "id": "cff11ca7-aab1-492b-90c1-1fc5d00faa22",
   "metadata": {
    "ExecuteTime": {
     "end_time": "2025-06-29T15:37:46.731901Z",
     "start_time": "2025-06-29T15:37:44.305593Z"
    },
    "tags": [],
    "trusted": true
   },
   "outputs": [],
   "source": [
    "import copy # copy variables\n",
    "import os   # manage paths\n",
    "\n",
    "import uproot   # use of root files\n",
    "import awkward as ak    # nested, variable sized data\n",
    "import vector   # lorentz vectors\n",
    "vector.register_awkward()\n",
    "import matplotlib.pyplot as plt # plotting\n",
    "import atlasopenmagic as atom\n",
    "\n",
    "from src.parse_atlas import (parser, consts, schemas, combinatorics)\n",
    "\n",
    "import traceback\n",
    "%load_ext autoreload\n",
    "%autoreload 2"
   ]
  },
  {
   "cell_type": "code",
   "execution_count": null,
   "id": "b52b41e8",
   "metadata": {},
   "outputs": [],
   "source": [
    "#TESTING MC files\n",
    "mc_rec_id = atlasparser.fetch_mc_files_ids('2024', is_random=True)\n",
    "all_metadata = atom.get_metadata(mc_rec_id)\n",
    "urls = atom.get_urls(mc_rec_id)\n",
    "atlasparser.parsing_pipeline(schemas.GENERIC_SCHEMA, files_ids=urls)"
   ]
  },
  {
   "cell_type": "code",
   "execution_count": null,
   "id": "e7439f4d",
   "metadata": {},
   "outputs": [],
   "source": [
    "#TESTING MAIN PIPELINE\n",
    "import main_pipeline\n",
    "\n",
    "main_pipeline.run()"
   ]
  },
  {
   "cell_type": "code",
   "execution_count": null,
   "id": "6579ac4a",
   "metadata": {},
   "outputs": [],
   "source": [
    "#TEST FOR KEYS OF ROOT FILE\n",
    "from src.parse_atlas import parser, schemas\n",
    "import atlasopenmagic as atom\n",
    "parse = parser.ATLAS_Parser()\n",
    "rand_id = parse.fetch_mc_files_ids(\n",
    "    '2024', is_random=True)\n",
    "uri = atom.get_urls(rand_id)[0]\n",
    "# testing = parse.testing_load_file_as_object(uri)\n",
    "testing = parse._parse_file(\n",
    "    schema=schemas.GENERIC_SCHEMA, \n",
    "    file_index=uri)"
   ]
  },
  {
   "cell_type": "code",
   "execution_count": null,
   "id": "86a76cef",
   "metadata": {},
   "outputs": [],
   "source": [
    "dir(testing)\n",
    "testing.fields"
   ]
  },
  {
   "cell_type": "code",
   "execution_count": null,
   "id": "35b48991-4b0c-4b3a-a23e-00e285c71b4b",
   "metadata": {
    "ExecuteTime": {
     "end_time": "2025-06-21T17:09:40.129899Z",
     "start_time": "2025-06-21T17:09:40.028552Z"
    },
    "tags": [],
    "trusted": true
   },
   "outputs": [],
   "source": [
    "GeV = 1000.\n",
    "\n",
    "def selected_electrons(el):\n",
    "    return el[(el.pt > 10 * GeV) & (abs(el.eta) < 2.47)]\n",
    "\n",
    "def selected_muons(mu):\n",
    "    return mu[(mu.pt > 10 * GeV) & (abs(mu.eta) < 2.47)]\n",
    "\n",
    "def selected_jets(j):\n",
    "    return j[(j.pt > 10 * GeV) & (abs(j.eta) < 2.47)]\n",
    "\n",
    "def no_overlap(obj1, obj2, deltaR=0.4):\n",
    "    obj1, obj2 = ak.unzip(ak.cartesian([obj1, obj2], nested=True))\n",
    "    return ak.all(obj1.deltaR(obj2) > deltaR, axis=-1)\n",
    "\n",
    "def mjjj(jets):\n",
    "    candidates = ak.combinations(jets, 3)\n",
    "    j1, j2, j3 = ak.unzip(candidates)\n",
    "    candidates[\"p4\"] = j1 + j2 + j3\n",
    "    candidates = candidates[ak.argmax(candidates.p4.pt, axis=1, keepdims=True)]\n",
    "    return candidates.p4.mass\n",
    "\n",
    "def processed(events):\n",
    "    events = copy.copy(events) # shallow copy\n",
    "    events[\"Electrons\"] = selected_electrons(events.Electrons)\n",
    "    events[\"Muons\"] = selected_muons(events.Muons)\n",
    "    events[\"Jets\"] = selected_jets(events.Jets)\n",
    "    events[\"Jets\"] = events.Jets[no_overlap(events.Jets, events.Electrons)]\n",
    "    events = events[\n",
    "        (ak.num(events.Jets) >= 4) # at least 4 jets\n",
    "        & ((ak.num(events.Electrons) + ak.num(events.Muons)) == 1) # exactly one lepton\n",
    "    ]\n",
    "    return ak.to_packed(events)\n",
    "\n",
    "events = processed(atlasparser.events)\n",
    "plt.hist(ak.flatten(mjjj(events.Jets) / GeV, axis=None), bins=100)\n",
    "plt.xlabel(\"Reconstructed Top Quark Mass (GeV)\")\n",
    "plt.ylabel(\"Number of Events\")\n",
    "plt.title(\"Distribution of Reconstructed Top Quark Mass\")\n",
    "plt.axvline(172.76, color='r', linestyle='dashed', linewidth=2, label='Expected Top Quark Mass')\n",
    "plt.legend()\n",
    "plt.show()\n",
    "\n",
    "print('Total events:', len(atlasparser.events))\n",
    "print('Events after filtering:', len(events))"
   ]
  },
  {
   "cell_type": "code",
   "execution_count": null,
   "id": "62bbd7e9-30d8-4976-a96d-e9f692838c87",
   "metadata": {},
   "outputs": [],
   "source": [
    "def selected_electrons(el):\n",
    "    return el[(el.pt > 10 * GeV) & (abs(el.eta) < 2.47)]\n",
    "\n",
    "def electron_posi_muon_antimuon(events):\n",
    "    events = copy.copy(events) # shallow copy\n",
    "    events[\"Electrons\"] = selected_electrons(events.Electrons)\n",
    "    events[\"Muons\"] = selected_muons(events.Muons)\n",
    "    events[\"Electrons\", \"is_neg\"] = events.Electrons.charge < 0\n",
    "    events[\"Muons\", \"is_neg\"] = events.Muons.charge < 0\n",
    "    events = events[\n",
    "        (ak.num(events.Electrons) == 2) \n",
    "        & (ak.num(events.Muons) == 2)\n",
    "        # & (ak.num(events.Electrons[events.Electrons.is_neg]) == 1)\n",
    "        # & (ak.num(events.Muons[events.Muons.is_neg]) == 1)\n",
    "    ]\n",
    "    return ak.to_packed(events)\n",
    "\n",
    "events = electron_posi_muon_antimuon(atlasparser.events)\n",
    "plt.hist(ak.flatten(events) / GeV, axis=None, bins=100)\n",
    "plt.xlabel(\"Reconstructed Top Quark Mass (GeV)\")\n",
    "plt.ylabel(\"Number of Events\")\n",
    "plt.title(\"Distribution of Reconstructed Top Quark Mass\")\n",
    "plt.axvline(172.76, color='r', linestyle='dashed', linewidth=2, label='Expected Top Quark Mass')\n",
    "plt.legend()\n",
    "plt.show()\n",
    "\n",
    "print('Total events:', len(atlasparser.events))\n",
    "print('Events after filtering:', len(events))"
   ]
  },
  {
   "cell_type": "code",
   "execution_count": 2,
   "id": "01e9d32f",
   "metadata": {},
   "outputs": [
    {
     "name": "stderr",
     "output_type": "stream",
     "text": [
      "INFO:root:Total amount of files found: 55620\n"
     ]
    },
    {
     "name": "stdout",
     "output_type": "stream",
     "text": [
      "Starting to parse 30 files with 3 threads.\n"
     ]
    },
    {
     "name": "stderr",
     "output_type": "stream",
     "text": [
      "Parsing files:   0%|          | 0/30 [00:00<?, ?file/s]"
     ]
    },
    {
     "name": "stderr",
     "output_type": "stream",
     "text": [
      "Parsing files:   3%|▎         | 1/30 [00:13<06:26, 13.33s/file, 48.00 KB | root://eospublic.cern.ch//eos/opendata/atlas/rucio/data15_13TeV/DAOD_PHYSLITE.37001626._000003.pool.root.1]INFO:root:Processing category: {'Electrons': 2, 'Muons': 2, 'Leptons': 2}\n",
      "Parsing files:   3%|▎         | 1/30 [00:13<06:27, 13.36s/file, 48.00 KB | root://eospublic.cern.ch//eos/opendata/atlas/rucio/data15_13TeV/DAOD_PHYSLITE.37001626._000003.pool.root.1]\n"
     ]
    },
    {
     "name": "stdout",
     "output_type": "stream",
     "text": [
      "Parsed file with objects: ['Electrons', 'Muons', 'Jets', 'Photons', 'MET']\n",
      "Yielding chunk with 10374 events after 1 files.\n"
     ]
    },
    {
     "name": "stderr",
     "output_type": "stream",
     "text": [
      "Exception ignored in: <generator object ATLAS_Parser.parse_files at 0x7f668bf948e0>\n",
      "Traceback (most recent call last):\n",
      "  File \"/workspaces/opendata_ddp/src/parse_atlas/parser.py\", line 89, in parse_files\n",
      "    \n",
      "  File \"/usr/lib/python3.13/concurrent/futures/_base.py\", line 647, in __exit__\n",
      "    self.shutdown(wait=True)\n",
      "  File \"/usr/lib/python3.13/concurrent/futures/thread.py\", line 239, in shutdown\n",
      "    t.join()\n",
      "  File \"/usr/lib/python3.13/threading.py\", line 1092, in join\n",
      "    self._handle.join(timeout)\n",
      "KeyboardInterrupt: \n"
     ]
    },
    {
     "ename": "AttributeError",
     "evalue": "'generator' object has no attribute 'keys'",
     "output_type": "error",
     "traceback": [
      "\u001b[31m---------------------------------------------------------------------------\u001b[39m",
      "\u001b[31mAttributeError\u001b[39m                            Traceback (most recent call last)",
      "\u001b[36mCell\u001b[39m\u001b[36m \u001b[39m\u001b[32mIn[2]\u001b[39m\u001b[32m, line 72\u001b[39m\n\u001b[32m     48\u001b[39m             \u001b[32m0\u001b[39m/\u001b[32m0\u001b[39m\n\u001b[32m     51\u001b[39m             \u001b[38;5;66;03m# for combination in combinations:\u001b[39;00m\n\u001b[32m     52\u001b[39m             \u001b[38;5;66;03m#     combination_dict = {\u001b[39;00m\n\u001b[32m     53\u001b[39m             \u001b[38;5;66;03m#         obj[:-1]: int(obj[-1]) for obj in combination}\u001b[39;00m\n\u001b[32m   (...)\u001b[39m\u001b[32m     70\u001b[39m             \u001b[38;5;66;03m#     plt.legend()\u001b[39;00m\n\u001b[32m     71\u001b[39m             \u001b[38;5;66;03m#     plt.show()\u001b[39;00m\n\u001b[32m---> \u001b[39m\u001b[32m72\u001b[39m \u001b[43mrun\u001b[49m\u001b[43m(\u001b[49m\u001b[43m)\u001b[49m\n",
      "\u001b[36mCell\u001b[39m\u001b[36m \u001b[39m\u001b[32mIn[2]\u001b[39m\u001b[32m, line 30\u001b[39m, in \u001b[36mrun\u001b[39m\u001b[34m()\u001b[39m\n\u001b[32m     26\u001b[39m combination_dict = combinatorics.make_objects_combinations_for_category(\n\u001b[32m     27\u001b[39m         category, min_k=\u001b[32m2\u001b[39m, max_k=\u001b[32m4\u001b[39m)\n\u001b[32m     29\u001b[39m \u001b[38;5;66;03m#IF CAN FILTER ACCORDING TO ITERATION'S COMBINATION\u001b[39;00m\n\u001b[32m---> \u001b[39m\u001b[32m30\u001b[39m \u001b[38;5;28;01mif\u001b[39;00m \u001b[38;5;129;01mnot\u001b[39;00m \u001b[38;5;28mall\u001b[39m(obj \u001b[38;5;129;01min\u001b[39;00m events_chunk.fields \u001b[38;5;28;01mfor\u001b[39;00m obj \u001b[38;5;129;01min\u001b[39;00m \u001b[43mcombination_dict\u001b[49m\u001b[43m.\u001b[49m\u001b[43mkeys\u001b[49m()):\n\u001b[32m     31\u001b[39m     logging.info(\u001b[33m'\u001b[39m\u001b[33mNot all of the combination objects are present in the events chunk. \u001b[39m\u001b[33m'\u001b[39m)\n\u001b[32m     32\u001b[39m     \u001b[38;5;28;01mcontinue\u001b[39;00m    \n",
      "\u001b[31mAttributeError\u001b[39m: 'generator' object has no attribute 'keys'"
     ]
    }
   ],
   "source": [
    "import logging\n",
    "import sys\n",
    "from src.parse_atlas import parser, combinatorics, consts, schemas\n",
    "import matplotlib.pyplot as plt # plotting\n",
    "import awkward as ak\n",
    "import tqdm\n",
    "\n",
    "release_years = ['2016', '2020', '2024', '2025']\n",
    "\n",
    "logging.basicConfig(\n",
    "    level=logging.INFO,\n",
    "    format='%(asctime)s - %(levelname)s - %(message)s',\n",
    "    handlers=[logging.StreamHandler(sys.stdout)]\n",
    ")\n",
    "\n",
    "def run():\n",
    "    atlasparser = parser.ATLAS_Parser()\n",
    "    release_files_uris = atlasparser.fetch_real_records_ids(release_year='2024')\n",
    "    # atlasparser.parsing_pipeline(file_uris=release_files_uris)\n",
    "\n",
    "    categories = combinatorics.make_objects_categories(consts.PARTICLE_LIST, min_n=2, max_n=4)\n",
    "\n",
    "    for events_chunk in atlasparser.parse_files(files_ids=release_files_uris, limit=30):\n",
    "        for category in categories:\n",
    "            logging.info(f\"Processing category: {category}\")\n",
    "            combination_dict = combinatorics.make_objects_combinations_for_category(\n",
    "                    category, min_k=2, max_k=4)\n",
    "            \n",
    "            #IF CAN FILTER ACCORDING TO ITERATION'S COMBINATION\n",
    "            if not all(obj in events_chunk.fields for obj in combination_dict.keys()):\n",
    "                logging.info('Not all of the combination objects are present in the events chunk. ')\n",
    "                continue    \n",
    "\n",
    "            # combo_events = atlasparser.filter_events_by_combination(\n",
    "            #     events_chunk, combination_dict)\n",
    "\n",
    "            combination_events_mass = atlasparser.calculate_mass_for_combination(events_chunk)\n",
    "            \n",
    "            #COMBO_EVENTS IS THE EVENTS FILTERED FOR EACH COMBINTATION\n",
    "            #NEXT STEP, MAKE A MASS HIST OUT OF IT\n",
    "            plt.hist(ak.flatten(combination_events_mass / consts.GeV, axis=None), bins=100)\n",
    "            plt.xlabel(\"Reconstructed Top Quark Mass (GeV)\")\n",
    "            plt.ylabel(\"Number of Events\")\n",
    "            plt.title(\"Distribution of Reconstructed Top Quark Mass\")\n",
    "            plt.axvline(172.76, color='r', linestyle='dashed', linewidth=2, label='Expected Top Quark Mass')\n",
    "            plt.legend()\n",
    "            plt.show()\n",
    "            0/0\n",
    "            \n",
    "\n",
    "            # for combination in combinations:\n",
    "            #     combination_dict = {\n",
    "            #         obj[:-1]: int(obj[-1]) for obj in combination}\n",
    "\n",
    "            #     #IF CAN FILTER ACCORDING TO ITERATION'S COMBINATION\n",
    "            #     if not all(obj in events_chunk.fields for obj in combination_dict.keys()):\n",
    "            #         logging.info('Not all of the combination objects are present in the events chunk. ')\n",
    "            #         continue    \n",
    "\n",
    "            #     combo_events = atlasparser.filter_events_by_combination(\n",
    "            #         events_chunk, combination_dict)\n",
    "                \n",
    "            #     #COMBO_EVENTS IS THE EVENTS FILTERED FOR EACH COMBINTATION\n",
    "            #     #NEXT STEP, MAKE A MASS HIST OUT OF IT\n",
    "            #     plt.hist(ak.flatten(combo_events / consts.GeV, axis=None), bins=100)\n",
    "            #     plt.xlabel(\"Reconstructed Top Quark Mass (GeV)\")\n",
    "            #     plt.ylabel(\"Number of Events\")\n",
    "            #     plt.title(\"Distribution of Reconstructed Top Quark Mass\")\n",
    "            #     plt.axvline(172.76, color='r', linestyle='dashed', linewidth=2, label='Expected Top Quark Mass')\n",
    "            #     plt.legend()\n",
    "            #     plt.show()\n",
    "run()"
   ]
  }
 ],
 "metadata": {
  "kernelspec": {
   "display_name": "venv",
   "language": "python",
   "name": "python3"
  },
  "language_info": {
   "codemirror_mode": {
    "name": "ipython",
    "version": 3
   },
   "file_extension": ".py",
   "mimetype": "text/x-python",
   "name": "python",
   "nbconvert_exporter": "python",
   "pygments_lexer": "ipython3",
   "version": "3.13.3"
  }
 },
 "nbformat": 4,
 "nbformat_minor": 5
}
