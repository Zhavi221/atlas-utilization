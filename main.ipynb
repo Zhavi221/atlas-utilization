{
 "cells": [
  {
   "cell_type": "code",
   "execution_count": 7,
   "id": "cff11ca7-aab1-492b-90c1-1fc5d00faa22",
   "metadata": {
    "ExecuteTime": {
     "end_time": "2025-06-29T15:37:46.731901Z",
     "start_time": "2025-06-29T15:37:44.305593Z"
    },
    "tags": [],
    "trusted": true
   },
   "outputs": [
    {
     "name": "stdout",
     "output_type": "stream",
     "text": [
      "The autoreload extension is already loaded. To reload it, use:\n",
      "  %reload_ext autoreload\n"
     ]
    }
   ],
   "source": [
    "import copy # copy variables\n",
    "import os   # manage paths\n",
    "\n",
    "import uproot   # use of root files\n",
    "import awkward as ak    # nested, variable sized data\n",
    "import vector   # lorentz vectors\n",
    "vector.register_awkward()\n",
    "import matplotlib.pyplot as plt # plotting\n",
    "import atlasopenmagic as atom\n",
    "\n",
    "from src.parse_atlas import (parser, consts, schemas)\n",
    "\n",
    "import traceback\n",
    "%load_ext autoreload\n",
    "%autoreload 2"
   ]
  },
  {
   "cell_type": "code",
   "execution_count": null,
   "id": "19075fd4",
   "metadata": {},
   "outputs": [
    {
     "name": "stderr",
     "output_type": "stream",
     "text": [
      "INFO:root:Initialize atom with release: 2024r-pp\n",
      "INFO:root:Total amount of files found: 55620\n"
     ]
    }
   ],
   "source": [
    "atlasparser = parser.ATLAS_Parser(release_year='2020')\n",
    "atlasparser.get_record_files_uris()"
   ]
  },
  {
   "cell_type": "code",
   "execution_count": null,
   "id": "780bea3a",
   "metadata": {},
   "outputs": [
    {
     "name": "stdout",
     "output_type": "stream",
     "text": [
      "{'dataset_id': '301204', 'short_name': 'Pythia8EvtGen_A14MSTW2008LO_Zprime_NoInt_ee_SSM3000', 'e-tag': 'e3723', 'cross_section': '0.001762', 'filter_efficiency': '1.0', 'k_factor': '1.0', 'number_events': '20000.0', 'sum_weights': '20000.0', 'sum_weights_squared': '20000.0', 'process': 'pp>Zprime>ee', 'generators': 'Pythia8(v8.186)+EvtGen(v1.2.0)', 'keywords': \"['2electron', 'BSM', 'SSM', 'Zprime', 'electroweak', 'heavyBoson', 'resonance']\", 'description': \"Pythia 8 Zprime decaying to two electrons'\", 'job_link': 'https://gitlab.cern.ch/atlas-physics/pmg/infrastructure/mc15joboptions/-/tree/master/share/DSID301xxx/MC15.301204.Pythia8EvtGen_A14MSTW2008LO_Zprime_NoInt_ee_SSM3000.py'}\n"
     ]
    }
   ],
   "source": [
    "#TODO: integrate all MC metadata excels\n",
    "    # '2016e-8tev': 'https://opendata.atlas.cern/files/metadata_8tev.csv',\n",
    "    # '2020e-13tev': 'https://opendata.atlas.cern/files/metadata_2020e_13tev.csv',\n",
    "    # '2024r-pp': 'https://opendata.atlas.cern/files/metadata.csv',\n",
    "    # '2025e-13tev-beta': 'https://opendata.atlas.cern/files/metadata.csv'\n",
    "\n",
    "all_metadata = atom.get_metadata('301204')\n",
    "urls = atom.get_urls('301204')\n",
    "print(all_metadata)"
   ]
  },
  {
   "cell_type": "code",
   "execution_count": null,
   "id": "30c8a1cc",
   "metadata": {
    "jupyter": {
     "is_executing": true
    }
   },
   "outputs": [],
   "source": [
    "atlas_parser = parser.ATLAS_Parser()\n",
    "atlas_parser.get_records_file_index([consts.ATLAS_13TEV_2016_RECORD])\n",
    "# atlas_parser.get_records_file_index(consts.ATLAS_13TEV_RECIDS)"
   ]
  },
  {
   "cell_type": "code",
   "execution_count": null,
   "id": "b0caa1cf",
   "metadata": {
    "ExecuteTime": {
     "end_time": "2025-06-21T17:09:38.438733Z",
     "start_time": "2025-06-21T17:09:34.255780Z"
    }
   },
   "outputs": [
    {
     "name": "stderr",
     "output_type": "stream",
     "text": [
      "INFO:root:Processing file - root://eospublic.cern.ch//eos/opendata/atlas/rucio/data16_13TeV/DAOD_PHYSLITE.37019878._000001.pool.root.1\n",
      "INFO:root:Finished, file number 1\n",
      "INFO:root:Finished, file number 2\n",
      "INFO:root:Processing file - root://eospublic.cern.ch//eos/opendata/atlas/rucio/data16_13TeV/DAOD_PHYSLITE.37019878._000002.pool.root.1\n"
     ]
    },
    {
     "ename": "KeyboardInterrupt",
     "evalue": "",
     "output_type": "error",
     "traceback": [
      "\u001b[31m---------------------------------------------------------------------------\u001b[39m",
      "\u001b[31mKeyboardInterrupt\u001b[39m                         Traceback (most recent call last)",
      "\u001b[36mCell\u001b[39m\u001b[36m \u001b[39m\u001b[32mIn[6]\u001b[39m\u001b[32m, line 1\u001b[39m\n\u001b[32m----> \u001b[39m\u001b[32m1\u001b[39m \u001b[43matlas_parser\u001b[49m\u001b[43m.\u001b[49m\u001b[43mparse_all_files\u001b[49m\u001b[43m(\u001b[49m\u001b[43mschemas\u001b[49m\u001b[43m.\u001b[49m\u001b[43mE_POSI_MUON_SCHEMA\u001b[49m\u001b[43m,\u001b[49m\u001b[43m \u001b[49m\u001b[43mlimit\u001b[49m\u001b[43m \u001b[49m\u001b[43m=\u001b[49m\u001b[43m \u001b[49m\u001b[32;43m30\u001b[39;49m\u001b[43m)\u001b[49m\n",
      "\u001b[36mFile \u001b[39m\u001b[32m/IdeaProjects/ATLAS example/parse_atlas/parser.py:68\u001b[39m, in \u001b[36mATLAS_Parser.parse_all_files\u001b[39m\u001b[34m(self, schema, limit, files_ids)\u001b[39m\n\u001b[32m     65\u001b[39m \u001b[38;5;28;01mfor\u001b[39;00m file_index \u001b[38;5;129;01min\u001b[39;00m files_ids:\n\u001b[32m     66\u001b[39m     logging.info(\u001b[33mf\u001b[39m\u001b[33m\"\u001b[39m\u001b[33mProcessing file - \u001b[39m\u001b[38;5;132;01m{\u001b[39;00mfile_index\u001b[38;5;132;01m}\u001b[39;00m\u001b[33m\"\u001b[39m)\n\u001b[32m---> \u001b[39m\u001b[32m68\u001b[39m     cur_file_data = \u001b[38;5;28;43mself\u001b[39;49m\u001b[43m.\u001b[49m\u001b[43m_parse_file\u001b[49m\u001b[43m(\u001b[49m\u001b[43mschema\u001b[49m\u001b[43m,\u001b[49m\u001b[43m \u001b[49m\u001b[43mfile_index\u001b[49m\u001b[43m)\u001b[49m\n\u001b[32m     69\u001b[39m     \u001b[38;5;28;01mif\u001b[39;00m events \u001b[38;5;129;01mis\u001b[39;00m \u001b[38;5;28;01mNone\u001b[39;00m:\n\u001b[32m     70\u001b[39m         events = cur_file_data\n",
      "\u001b[36mFile \u001b[39m\u001b[32m/IdeaProjects/ATLAS example/parse_atlas/parser.py:86\u001b[39m, in \u001b[36mATLAS_Parser._parse_file\u001b[39m\u001b[34m(self, schema, file_index)\u001b[39m\n\u001b[32m     85\u001b[39m \u001b[38;5;28;01mdef\u001b[39;00m\u001b[38;5;250m \u001b[39m\u001b[34m_parse_file\u001b[39m(\u001b[38;5;28mself\u001b[39m, schema, file_index):\n\u001b[32m---> \u001b[39m\u001b[32m86\u001b[39m     \u001b[38;5;28;01mwith\u001b[39;00m \u001b[43muproot\u001b[49m\u001b[43m.\u001b[49m\u001b[43mopen\u001b[49m\u001b[43m(\u001b[49m\u001b[43m{\u001b[49m\u001b[43mfile_index\u001b[49m\u001b[43m:\u001b[49m\u001b[43m \u001b[49m\u001b[33;43m\"\u001b[39;49m\u001b[33;43mCollectionTree\u001b[39;49m\u001b[33;43m\"\u001b[39;49m\u001b[43m}\u001b[49m\u001b[43m)\u001b[49m \u001b[38;5;28;01mas\u001b[39;00m tree:\n\u001b[32m     87\u001b[39m         events = {}\n\u001b[32m     89\u001b[39m         \u001b[38;5;28;01mfor\u001b[39;00m container_name, fields \u001b[38;5;129;01min\u001b[39;00m schema.items():\n",
      "\u001b[36mFile \u001b[39m\u001b[32m/usr/local/lib/python3.13/dist-packages/uproot/reading.py:155\u001b[39m, in \u001b[36mopen\u001b[39m\u001b[34m(path, object_cache, array_cache, custom_classes, decompression_executor, interpretation_executor, **options)\u001b[39m\n\u001b[32m    153\u001b[39m     \u001b[38;5;28;01mreturn\u001b[39;00m file.root_directory\n\u001b[32m    154\u001b[39m \u001b[38;5;28;01melse\u001b[39;00m:\n\u001b[32m--> \u001b[39m\u001b[32m155\u001b[39m     \u001b[38;5;28;01mreturn\u001b[39;00m \u001b[43mfile\u001b[49m\u001b[43m.\u001b[49m\u001b[43mroot_directory\u001b[49m\u001b[43m[\u001b[49m\u001b[43mobject_path\u001b[49m\u001b[43m]\u001b[49m\n",
      "\u001b[36mFile \u001b[39m\u001b[32m/usr/local/lib/python3.13/dist-packages/uproot/reading.py:2116\u001b[39m, in \u001b[36mReadOnlyDirectory.__getitem__\u001b[39m\u001b[34m(self, where)\u001b[39m\n\u001b[32m   2113\u001b[39m     \u001b[38;5;28;01mreturn\u001b[39;00m step\n\u001b[32m   2115\u001b[39m \u001b[38;5;28;01melse\u001b[39;00m:\n\u001b[32m-> \u001b[39m\u001b[32m2116\u001b[39m     \u001b[38;5;28;01mreturn\u001b[39;00m \u001b[38;5;28;43mself\u001b[39;49m\u001b[43m.\u001b[49m\u001b[43mkey\u001b[49m\u001b[43m(\u001b[49m\u001b[43mwhere\u001b[49m\u001b[43m)\u001b[49m\u001b[43m.\u001b[49m\u001b[43mget\u001b[49m\u001b[43m(\u001b[49m\u001b[43m)\u001b[49m\n",
      "\u001b[36mFile \u001b[39m\u001b[32m/usr/local/lib/python3.13/dist-packages/uproot/reading.py:2513\u001b[39m, in \u001b[36mReadOnlyKey.get\u001b[39m\u001b[34m(self)\u001b[39m\n\u001b[32m   2510\u001b[39m \u001b[38;5;28mcls\u001b[39m = \u001b[38;5;28mself\u001b[39m._file.class_named(\u001b[38;5;28mself\u001b[39m._fClassName)\n\u001b[32m   2512\u001b[39m \u001b[38;5;28;01mtry\u001b[39;00m:\n\u001b[32m-> \u001b[39m\u001b[32m2513\u001b[39m     out = \u001b[38;5;28;43mcls\u001b[39;49m\u001b[43m.\u001b[49m\u001b[43mread\u001b[49m\u001b[43m(\u001b[49m\u001b[43mchunk\u001b[49m\u001b[43m,\u001b[49m\u001b[43m \u001b[49m\u001b[43mcursor\u001b[49m\u001b[43m,\u001b[49m\u001b[43m \u001b[49m\u001b[43mcontext\u001b[49m\u001b[43m,\u001b[49m\u001b[43m \u001b[49m\u001b[38;5;28;43mself\u001b[39;49m\u001b[43m.\u001b[49m\u001b[43m_file\u001b[49m\u001b[43m,\u001b[49m\u001b[43m \u001b[49m\u001b[43mselffile\u001b[49m\u001b[43m,\u001b[49m\u001b[43m \u001b[49m\u001b[43mparent\u001b[49m\u001b[43m)\u001b[49m\n\u001b[32m   2515\u001b[39m \u001b[38;5;28;01mexcept\u001b[39;00m uproot.deserialization.DeserializationError:\n\u001b[32m   2516\u001b[39m     breadcrumbs = context.get(\u001b[33m\"\u001b[39m\u001b[33mbreadcrumbs\u001b[39m\u001b[33m\"\u001b[39m)\n",
      "\u001b[36mFile \u001b[39m\u001b[32m/usr/local/lib/python3.13/dist-packages/uproot/model.py:1362\u001b[39m, in \u001b[36mDispatchByVersion.read\u001b[39m\u001b[34m(cls, chunk, cursor, context, file, selffile, parent, concrete)\u001b[39m\n\u001b[32m   1354\u001b[39m             \u001b[38;5;28;01mraise\u001b[39;00m \u001b[38;5;167;01mValueError\u001b[39;00m(\n\u001b[32m   1355\u001b[39m                 \u001b[33mf\u001b[39m\u001b[33m\"\"\"\u001b[39m\u001b[33mUnknown version \u001b[39m\u001b[38;5;132;01m{\u001b[39;00mversion\u001b[38;5;132;01m}\u001b[39;00m\u001b[33m for class \u001b[39m\u001b[38;5;132;01m{\u001b[39;00mclassname_decode(\u001b[38;5;28mcls\u001b[39m.\u001b[34m__name__\u001b[39m)[\u001b[32m0\u001b[39m]\u001b[38;5;132;01m}\u001b[39;00m\u001b[33m that cannot be skipped \u001b[39m\u001b[33m\"\"\"\u001b[39m\n\u001b[32m   1356\u001b[39m \u001b[38;5;250m                \u001b[39m\u001b[33;03m\"\"\"because its number of bytes is unknown.\u001b[39;00m\n\u001b[32m   1357\u001b[39m \u001b[33;03m\"\"\"\u001b[39;00m\n\u001b[32m   1358\u001b[39m             )\n\u001b[32m   1360\u001b[39m         \u001b[38;5;66;03m# versioned_cls.read starts with numbytes_version again because move=False (above)\u001b[39;00m\n\u001b[32m   1361\u001b[39m         temp_var = \u001b[38;5;28mcls\u001b[39m.postprocess(\n\u001b[32m-> \u001b[39m\u001b[32m1362\u001b[39m             \u001b[43mversioned_cls\u001b[49m\u001b[43m.\u001b[49m\u001b[43mread\u001b[49m\u001b[43m(\u001b[49m\n\u001b[32m   1363\u001b[39m \u001b[43m                \u001b[49m\u001b[43mchunk\u001b[49m\u001b[43m,\u001b[49m\u001b[43m \u001b[49m\u001b[43mcursor\u001b[49m\u001b[43m,\u001b[49m\u001b[43m \u001b[49m\u001b[43mcontext\u001b[49m\u001b[43m,\u001b[49m\u001b[43m \u001b[49m\u001b[43mfile\u001b[49m\u001b[43m,\u001b[49m\u001b[43m \u001b[49m\u001b[43mselffile\u001b[49m\u001b[43m,\u001b[49m\u001b[43m \u001b[49m\u001b[43mparent\u001b[49m\u001b[43m,\u001b[49m\u001b[43m \u001b[49m\u001b[43mconcrete\u001b[49m\u001b[43m=\u001b[49m\u001b[43mconcrete\u001b[49m\n\u001b[32m   1364\u001b[39m \u001b[43m            \u001b[49m\u001b[43m)\u001b[49m,\n\u001b[32m   1365\u001b[39m             chunk,\n\u001b[32m   1366\u001b[39m             cursor,\n\u001b[32m   1367\u001b[39m             context,\n\u001b[32m   1368\u001b[39m             file,\n\u001b[32m   1369\u001b[39m         )\n\u001b[32m   1371\u001b[39m         \u001b[38;5;28;01mif\u001b[39;00m forth_obj \u001b[38;5;129;01mis\u001b[39;00m \u001b[38;5;129;01mnot\u001b[39;00m \u001b[38;5;28;01mNone\u001b[39;00m:\n\u001b[32m   1372\u001b[39m             forth_obj.pop_active_node()\n",
      "\u001b[36mFile \u001b[39m\u001b[32m/usr/local/lib/python3.13/dist-packages/uproot/model.py:854\u001b[39m, in \u001b[36mModel.read\u001b[39m\u001b[34m(cls, chunk, cursor, context, file, selffile, parent, concrete)\u001b[39m\n\u001b[32m    852\u001b[39m     forth_obj.add_node(forth_stash)\n\u001b[32m    853\u001b[39m     forth_obj.push_active_node(forth_stash)\n\u001b[32m--> \u001b[39m\u001b[32m854\u001b[39m \u001b[38;5;28;43mself\u001b[39;49m\u001b[43m.\u001b[49m\u001b[43mread_members\u001b[49m\u001b[43m(\u001b[49m\u001b[43mchunk\u001b[49m\u001b[43m,\u001b[49m\u001b[43m \u001b[49m\u001b[43mcursor\u001b[49m\u001b[43m,\u001b[49m\u001b[43m \u001b[49m\u001b[43mcontext\u001b[49m\u001b[43m,\u001b[49m\u001b[43m \u001b[49m\u001b[43mfile\u001b[49m\u001b[43m)\u001b[49m\n\u001b[32m    855\u001b[39m \u001b[38;5;28;01mif\u001b[39;00m forth_obj \u001b[38;5;129;01mis\u001b[39;00m \u001b[38;5;129;01mnot\u001b[39;00m \u001b[38;5;28;01mNone\u001b[39;00m:\n\u001b[32m    856\u001b[39m     forth_obj.pop_active_node()\n",
      "\u001b[36mFile \u001b[39m\u001b[32m/usr/local/lib/python3.13/dist-packages/uproot/models/TTree.py:773\u001b[39m, in \u001b[36mModel_TTree_v20.read_members\u001b[39m\u001b[34m(self, chunk, cursor, context, file)\u001b[39m\n\u001b[32m    767\u001b[39m \u001b[38;5;28mself\u001b[39m._members[\u001b[33m\"\u001b[39m\u001b[33mfClusterSize\u001b[39m\u001b[33m\"\u001b[39m] = cursor.array(\n\u001b[32m    768\u001b[39m     chunk, \u001b[38;5;28mself\u001b[39m.member(\u001b[33m\"\u001b[39m\u001b[33mfNClusterRange\u001b[39m\u001b[33m\"\u001b[39m), tmp, context\n\u001b[32m    769\u001b[39m )\n\u001b[32m    770\u001b[39m \u001b[38;5;28mself\u001b[39m._members[\u001b[33m\"\u001b[39m\u001b[33mfIOFeatures\u001b[39m\u001b[33m\"\u001b[39m] = file.class_named(\u001b[33m\"\u001b[39m\u001b[33mROOT::TIOFeatures\u001b[39m\u001b[33m\"\u001b[39m).read(\n\u001b[32m    771\u001b[39m     chunk, cursor, context, file, \u001b[38;5;28mself\u001b[39m._file, \u001b[38;5;28mself\u001b[39m.concrete\n\u001b[32m    772\u001b[39m )\n\u001b[32m--> \u001b[39m\u001b[32m773\u001b[39m \u001b[38;5;28mself\u001b[39m._members[\u001b[33m\"\u001b[39m\u001b[33mfBranches\u001b[39m\u001b[33m\"\u001b[39m] = \u001b[43mfile\u001b[49m\u001b[43m.\u001b[49m\u001b[43mclass_named\u001b[49m\u001b[43m(\u001b[49m\u001b[33;43m\"\u001b[39;49m\u001b[33;43mTObjArray\u001b[39;49m\u001b[33;43m\"\u001b[39;49m\u001b[43m)\u001b[49m\u001b[43m.\u001b[49m\u001b[43mread\u001b[49m\u001b[43m(\u001b[49m\n\u001b[32m    774\u001b[39m \u001b[43m    \u001b[49m\u001b[43mchunk\u001b[49m\u001b[43m,\u001b[49m\u001b[43m \u001b[49m\u001b[43mcursor\u001b[49m\u001b[43m,\u001b[49m\u001b[43m \u001b[49m\u001b[43mcontext\u001b[49m\u001b[43m,\u001b[49m\u001b[43m \u001b[49m\u001b[43mfile\u001b[49m\u001b[43m,\u001b[49m\u001b[43m \u001b[49m\u001b[38;5;28;43mself\u001b[39;49m\u001b[43m.\u001b[49m\u001b[43m_file\u001b[49m\u001b[43m,\u001b[49m\u001b[43m \u001b[49m\u001b[38;5;28;43mself\u001b[39;49m\u001b[43m.\u001b[49m\u001b[43mconcrete\u001b[49m\n\u001b[32m    775\u001b[39m \u001b[43m\u001b[49m\u001b[43m)\u001b[49m\n\u001b[32m    776\u001b[39m \u001b[38;5;28mself\u001b[39m._members[\u001b[33m\"\u001b[39m\u001b[33mfLeaves\u001b[39m\u001b[33m\"\u001b[39m] = file.class_named(\u001b[33m\"\u001b[39m\u001b[33mTObjArray\u001b[39m\u001b[33m\"\u001b[39m).read(\n\u001b[32m    777\u001b[39m     chunk, cursor, context, file, \u001b[38;5;28mself\u001b[39m._file, \u001b[38;5;28mself\u001b[39m.concrete\n\u001b[32m    778\u001b[39m )\n\u001b[32m    779\u001b[39m \u001b[38;5;28mself\u001b[39m._members[\u001b[33m\"\u001b[39m\u001b[33mfAliases\u001b[39m\u001b[33m\"\u001b[39m] = uproot.deserialization.read_object_any(\n\u001b[32m    780\u001b[39m     chunk, cursor, context, file, \u001b[38;5;28mself\u001b[39m._file, \u001b[38;5;28mself\u001b[39m.concrete\n\u001b[32m    781\u001b[39m )\n",
      "\u001b[36mFile \u001b[39m\u001b[32m/usr/local/lib/python3.13/dist-packages/uproot/model.py:854\u001b[39m, in \u001b[36mModel.read\u001b[39m\u001b[34m(cls, chunk, cursor, context, file, selffile, parent, concrete)\u001b[39m\n\u001b[32m    852\u001b[39m     forth_obj.add_node(forth_stash)\n\u001b[32m    853\u001b[39m     forth_obj.push_active_node(forth_stash)\n\u001b[32m--> \u001b[39m\u001b[32m854\u001b[39m \u001b[38;5;28;43mself\u001b[39;49m\u001b[43m.\u001b[49m\u001b[43mread_members\u001b[49m\u001b[43m(\u001b[49m\u001b[43mchunk\u001b[49m\u001b[43m,\u001b[49m\u001b[43m \u001b[49m\u001b[43mcursor\u001b[49m\u001b[43m,\u001b[49m\u001b[43m \u001b[49m\u001b[43mcontext\u001b[49m\u001b[43m,\u001b[49m\u001b[43m \u001b[49m\u001b[43mfile\u001b[49m\u001b[43m)\u001b[49m\n\u001b[32m    855\u001b[39m \u001b[38;5;28;01mif\u001b[39;00m forth_obj \u001b[38;5;129;01mis\u001b[39;00m \u001b[38;5;129;01mnot\u001b[39;00m \u001b[38;5;28;01mNone\u001b[39;00m:\n\u001b[32m    856\u001b[39m     forth_obj.pop_active_node()\n",
      "\u001b[36mFile \u001b[39m\u001b[32m/usr/local/lib/python3.13/dist-packages/uproot/models/TObjArray.py:57\u001b[39m, in \u001b[36mModel_TObjArray.read_members\u001b[39m\u001b[34m(self, chunk, cursor, context, file)\u001b[39m\n\u001b[32m     55\u001b[39m \u001b[38;5;28mself\u001b[39m._data = []\n\u001b[32m     56\u001b[39m \u001b[38;5;28;01mfor\u001b[39;00m _ \u001b[38;5;129;01min\u001b[39;00m \u001b[38;5;28mrange\u001b[39m(\u001b[38;5;28mself\u001b[39m._members[\u001b[33m\"\u001b[39m\u001b[33mfSize\u001b[39m\u001b[33m\"\u001b[39m]):\n\u001b[32m---> \u001b[39m\u001b[32m57\u001b[39m     item = \u001b[43muproot\u001b[49m\u001b[43m.\u001b[49m\u001b[43mdeserialization\u001b[49m\u001b[43m.\u001b[49m\u001b[43mread_object_any\u001b[49m\u001b[43m(\u001b[49m\n\u001b[32m     58\u001b[39m \u001b[43m        \u001b[49m\u001b[43mchunk\u001b[49m\u001b[43m,\u001b[49m\u001b[43m \u001b[49m\u001b[43mcursor\u001b[49m\u001b[43m,\u001b[49m\u001b[43m \u001b[49m\u001b[43mcontext\u001b[49m\u001b[43m,\u001b[49m\u001b[43m \u001b[49m\u001b[43mfile\u001b[49m\u001b[43m,\u001b[49m\u001b[43m \u001b[49m\u001b[38;5;28;43mself\u001b[39;49m\u001b[43m.\u001b[49m\u001b[43m_file\u001b[49m\u001b[43m,\u001b[49m\u001b[43m \u001b[49m\u001b[38;5;28;43mself\u001b[39;49m\u001b[43m.\u001b[49m\u001b[43m_parent\u001b[49m\n\u001b[32m     59\u001b[39m \u001b[43m    \u001b[49m\u001b[43m)\u001b[49m\n\u001b[32m     60\u001b[39m     \u001b[38;5;28mself\u001b[39m._data.append(item)\n",
      "\u001b[36mFile \u001b[39m\u001b[32m/usr/local/lib/python3.13/dist-packages/uproot/deserialization.py:312\u001b[39m, in \u001b[36mread_object_any\u001b[39m\u001b[34m(chunk, cursor, context, file, selffile, parent, as_class)\u001b[39m\n\u001b[32m    299\u001b[39m         \u001b[38;5;28;01mraise\u001b[39;00m DeserializationError(\n\u001b[32m    300\u001b[39m \u001b[38;5;250m            \u001b[39m\u001b[33;03m\"\"\"invalid class-tag reference: {}\u001b[39;00m\n\u001b[32m    301\u001b[39m \n\u001b[32m   (...)\u001b[39m\u001b[32m    308\u001b[39m             file.file_path,\n\u001b[32m    309\u001b[39m         )\n\u001b[32m    311\u001b[39m     \u001b[38;5;28mcls\u001b[39m = cursor.refs[ref]  \u001b[38;5;66;03m# reference class\u001b[39;00m\n\u001b[32m--> \u001b[39m\u001b[32m312\u001b[39m     obj = \u001b[38;5;28;43mcls\u001b[39;49m\u001b[43m.\u001b[49m\u001b[43mread\u001b[49m\u001b[43m(\u001b[49m\u001b[43mchunk\u001b[49m\u001b[43m,\u001b[49m\u001b[43m \u001b[49m\u001b[43mcursor\u001b[49m\u001b[43m,\u001b[49m\u001b[43m \u001b[49m\u001b[43mcontext\u001b[49m\u001b[43m,\u001b[49m\u001b[43m \u001b[49m\u001b[43mfile\u001b[49m\u001b[43m,\u001b[49m\u001b[43m \u001b[49m\u001b[43mselffile\u001b[49m\u001b[43m,\u001b[49m\u001b[43m \u001b[49m\u001b[43mparent\u001b[49m\u001b[43m)\u001b[49m\n\u001b[32m    314\u001b[39m \u001b[38;5;28;01melse\u001b[39;00m:\n\u001b[32m    315\u001b[39m     obj = as_class.read(chunk, cursor, context, file, selffile, parent)\n",
      "\u001b[36mFile \u001b[39m\u001b[32m/usr/local/lib/python3.13/dist-packages/uproot/model.py:1362\u001b[39m, in \u001b[36mDispatchByVersion.read\u001b[39m\u001b[34m(cls, chunk, cursor, context, file, selffile, parent, concrete)\u001b[39m\n\u001b[32m   1354\u001b[39m             \u001b[38;5;28;01mraise\u001b[39;00m \u001b[38;5;167;01mValueError\u001b[39;00m(\n\u001b[32m   1355\u001b[39m                 \u001b[33mf\u001b[39m\u001b[33m\"\"\"\u001b[39m\u001b[33mUnknown version \u001b[39m\u001b[38;5;132;01m{\u001b[39;00mversion\u001b[38;5;132;01m}\u001b[39;00m\u001b[33m for class \u001b[39m\u001b[38;5;132;01m{\u001b[39;00mclassname_decode(\u001b[38;5;28mcls\u001b[39m.\u001b[34m__name__\u001b[39m)[\u001b[32m0\u001b[39m]\u001b[38;5;132;01m}\u001b[39;00m\u001b[33m that cannot be skipped \u001b[39m\u001b[33m\"\"\"\u001b[39m\n\u001b[32m   1356\u001b[39m \u001b[38;5;250m                \u001b[39m\u001b[33;03m\"\"\"because its number of bytes is unknown.\u001b[39;00m\n\u001b[32m   1357\u001b[39m \u001b[33;03m\"\"\"\u001b[39;00m\n\u001b[32m   1358\u001b[39m             )\n\u001b[32m   1360\u001b[39m         \u001b[38;5;66;03m# versioned_cls.read starts with numbytes_version again because move=False (above)\u001b[39;00m\n\u001b[32m   1361\u001b[39m         temp_var = \u001b[38;5;28mcls\u001b[39m.postprocess(\n\u001b[32m-> \u001b[39m\u001b[32m1362\u001b[39m             \u001b[43mversioned_cls\u001b[49m\u001b[43m.\u001b[49m\u001b[43mread\u001b[49m\u001b[43m(\u001b[49m\n\u001b[32m   1363\u001b[39m \u001b[43m                \u001b[49m\u001b[43mchunk\u001b[49m\u001b[43m,\u001b[49m\u001b[43m \u001b[49m\u001b[43mcursor\u001b[49m\u001b[43m,\u001b[49m\u001b[43m \u001b[49m\u001b[43mcontext\u001b[49m\u001b[43m,\u001b[49m\u001b[43m \u001b[49m\u001b[43mfile\u001b[49m\u001b[43m,\u001b[49m\u001b[43m \u001b[49m\u001b[43mselffile\u001b[49m\u001b[43m,\u001b[49m\u001b[43m \u001b[49m\u001b[43mparent\u001b[49m\u001b[43m,\u001b[49m\u001b[43m \u001b[49m\u001b[43mconcrete\u001b[49m\u001b[43m=\u001b[49m\u001b[43mconcrete\u001b[49m\n\u001b[32m   1364\u001b[39m \u001b[43m            \u001b[49m\u001b[43m)\u001b[49m,\n\u001b[32m   1365\u001b[39m             chunk,\n\u001b[32m   1366\u001b[39m             cursor,\n\u001b[32m   1367\u001b[39m             context,\n\u001b[32m   1368\u001b[39m             file,\n\u001b[32m   1369\u001b[39m         )\n\u001b[32m   1371\u001b[39m         \u001b[38;5;28;01mif\u001b[39;00m forth_obj \u001b[38;5;129;01mis\u001b[39;00m \u001b[38;5;129;01mnot\u001b[39;00m \u001b[38;5;28;01mNone\u001b[39;00m:\n\u001b[32m   1372\u001b[39m             forth_obj.pop_active_node()\n",
      "\u001b[36mFile \u001b[39m\u001b[32m/usr/local/lib/python3.13/dist-packages/uproot/model.py:854\u001b[39m, in \u001b[36mModel.read\u001b[39m\u001b[34m(cls, chunk, cursor, context, file, selffile, parent, concrete)\u001b[39m\n\u001b[32m    852\u001b[39m     forth_obj.add_node(forth_stash)\n\u001b[32m    853\u001b[39m     forth_obj.push_active_node(forth_stash)\n\u001b[32m--> \u001b[39m\u001b[32m854\u001b[39m \u001b[38;5;28;43mself\u001b[39;49m\u001b[43m.\u001b[49m\u001b[43mread_members\u001b[49m\u001b[43m(\u001b[49m\u001b[43mchunk\u001b[49m\u001b[43m,\u001b[49m\u001b[43m \u001b[49m\u001b[43mcursor\u001b[49m\u001b[43m,\u001b[49m\u001b[43m \u001b[49m\u001b[43mcontext\u001b[49m\u001b[43m,\u001b[49m\u001b[43m \u001b[49m\u001b[43mfile\u001b[49m\u001b[43m)\u001b[49m\n\u001b[32m    855\u001b[39m \u001b[38;5;28;01mif\u001b[39;00m forth_obj \u001b[38;5;129;01mis\u001b[39;00m \u001b[38;5;129;01mnot\u001b[39;00m \u001b[38;5;28;01mNone\u001b[39;00m:\n\u001b[32m    856\u001b[39m     forth_obj.pop_active_node()\n",
      "\u001b[36mFile \u001b[39m\u001b[32m/usr/local/lib/python3.13/dist-packages/uproot/models/TBranch.py:754\u001b[39m, in \u001b[36mModel_TBranchElement_v10.read_members\u001b[39m\u001b[34m(self, chunk, cursor, context, file)\u001b[39m\n\u001b[32m    748\u001b[39m         \u001b[38;5;28;01mif\u001b[39;00m \u001b[38;5;28mself\u001b[39m.is_memberwise:\n\u001b[32m    749\u001b[39m             \u001b[38;5;28;01mraise\u001b[39;00m \u001b[38;5;167;01mNotImplementedError\u001b[39;00m(\n\u001b[32m    750\u001b[39m                 \u001b[33mf\u001b[39m\u001b[33m\"\"\"\u001b[39m\u001b[33mmemberwise serialization of \u001b[39m\u001b[38;5;132;01m{\u001b[39;00m\u001b[38;5;28mtype\u001b[39m(\u001b[38;5;28mself\u001b[39m).\u001b[34m__name__\u001b[39m\u001b[38;5;132;01m}\u001b[39;00m\n\u001b[32m    751\u001b[39m \u001b[33min file \u001b[39m\u001b[38;5;132;01m{\u001b[39;00m\u001b[38;5;28mself\u001b[39m.file.file_path\u001b[38;5;132;01m}\u001b[39;00m\u001b[33m\"\"\"\u001b[39m\n\u001b[32m    752\u001b[39m             )\n\u001b[32m    753\u001b[39m         \u001b[38;5;28mself\u001b[39m._bases.append(\n\u001b[32m--> \u001b[39m\u001b[32m754\u001b[39m             \u001b[43mfile\u001b[49m\u001b[43m.\u001b[49m\u001b[43mclass_named\u001b[49m\u001b[43m(\u001b[49m\u001b[33;43m\"\u001b[39;49m\u001b[33;43mTBranch\u001b[39;49m\u001b[33;43m\"\u001b[39;49m\u001b[43m,\u001b[49m\u001b[43m \u001b[49m\u001b[32;43m12\u001b[39;49m\u001b[43m)\u001b[49m\u001b[43m.\u001b[49m\u001b[43mread\u001b[49m\u001b[43m(\u001b[49m\n\u001b[32m    755\u001b[39m \u001b[43m                \u001b[49m\u001b[43mchunk\u001b[49m\u001b[43m,\u001b[49m\n\u001b[32m    756\u001b[39m \u001b[43m                \u001b[49m\u001b[43mcursor\u001b[49m\u001b[43m,\u001b[49m\n\u001b[32m    757\u001b[39m \u001b[43m                \u001b[49m\u001b[43mcontext\u001b[49m\u001b[43m,\u001b[49m\n\u001b[32m    758\u001b[39m \u001b[43m                \u001b[49m\u001b[43mfile\u001b[49m\u001b[43m,\u001b[49m\n\u001b[32m    759\u001b[39m \u001b[43m                \u001b[49m\u001b[38;5;28;43mself\u001b[39;49m\u001b[43m.\u001b[49m\u001b[43m_file\u001b[49m\u001b[43m,\u001b[49m\n\u001b[32m    760\u001b[39m \u001b[43m                \u001b[49m\u001b[38;5;28;43mself\u001b[39;49m\u001b[43m.\u001b[49m\u001b[43m_parent\u001b[49m\u001b[43m,\u001b[49m\n\u001b[32m    761\u001b[39m \u001b[43m                \u001b[49m\u001b[43mconcrete\u001b[49m\u001b[43m=\u001b[49m\u001b[38;5;28;43mself\u001b[39;49m\u001b[43m.\u001b[49m\u001b[43mconcrete\u001b[49m\u001b[43m,\u001b[49m\n\u001b[32m    762\u001b[39m \u001b[43m            \u001b[49m\u001b[43m)\u001b[49m\n\u001b[32m    763\u001b[39m         )\n\u001b[32m    764\u001b[39m         \u001b[38;5;28mself\u001b[39m._cursor_baskets = \u001b[38;5;28mself\u001b[39m._bases[\u001b[32m0\u001b[39m]._cursor_baskets\n\u001b[32m    765\u001b[39m         \u001b[38;5;28mself\u001b[39m._members[\u001b[33m\"\u001b[39m\u001b[33mfClassName\u001b[39m\u001b[33m\"\u001b[39m] = file.class_named(\u001b[33m\"\u001b[39m\u001b[33mTString\u001b[39m\u001b[33m\"\u001b[39m).read(\n\u001b[32m    766\u001b[39m             chunk, cursor, context, file, \u001b[38;5;28mself\u001b[39m._file, \u001b[38;5;28mself\u001b[39m.concrete\n\u001b[32m    767\u001b[39m         )\n",
      "\u001b[36mFile \u001b[39m\u001b[32m/usr/local/lib/python3.13/dist-packages/uproot/model.py:818\u001b[39m, in \u001b[36mModel.read\u001b[39m\u001b[34m(cls, chunk, cursor, context, file, selffile, parent, concrete)\u001b[39m\n\u001b[32m    816\u001b[39m     forth_obj.add_node(forth_stash)\n\u001b[32m    817\u001b[39m     forth_obj.push_active_node(forth_stash)\n\u001b[32m--> \u001b[39m\u001b[32m818\u001b[39m temp_var = \u001b[43mcorrect_cls\u001b[49m\u001b[43m.\u001b[49m\u001b[43mread\u001b[49m\u001b[43m(\u001b[49m\n\u001b[32m    819\u001b[39m \u001b[43m    \u001b[49m\u001b[43mchunk\u001b[49m\u001b[43m,\u001b[49m\n\u001b[32m    820\u001b[39m \u001b[43m    \u001b[49m\u001b[43mcursor\u001b[49m\u001b[43m,\u001b[49m\n\u001b[32m    821\u001b[39m \u001b[43m    \u001b[49m\u001b[43mcontext\u001b[49m\u001b[43m,\u001b[49m\n\u001b[32m    822\u001b[39m \u001b[43m    \u001b[49m\u001b[43mfile\u001b[49m\u001b[43m,\u001b[49m\n\u001b[32m    823\u001b[39m \u001b[43m    \u001b[49m\u001b[43mselffile\u001b[49m\u001b[43m,\u001b[49m\n\u001b[32m    824\u001b[39m \u001b[43m    \u001b[49m\u001b[43mparent\u001b[49m\u001b[43m,\u001b[49m\n\u001b[32m    825\u001b[39m \u001b[43m    \u001b[49m\u001b[43mconcrete\u001b[49m\u001b[43m=\u001b[49m\u001b[43mconcrete\u001b[49m\u001b[43m,\u001b[49m\n\u001b[32m    826\u001b[39m \u001b[43m\u001b[49m\u001b[43m)\u001b[49m\n\u001b[32m    827\u001b[39m \u001b[38;5;28;01mif\u001b[39;00m forth_obj \u001b[38;5;129;01mis\u001b[39;00m \u001b[38;5;129;01mnot\u001b[39;00m \u001b[38;5;28;01mNone\u001b[39;00m:\n\u001b[32m    828\u001b[39m     forth_obj.pop_active_node()\n",
      "\u001b[36mFile \u001b[39m\u001b[32m/usr/local/lib/python3.13/dist-packages/uproot/model.py:854\u001b[39m, in \u001b[36mModel.read\u001b[39m\u001b[34m(cls, chunk, cursor, context, file, selffile, parent, concrete)\u001b[39m\n\u001b[32m    852\u001b[39m     forth_obj.add_node(forth_stash)\n\u001b[32m    853\u001b[39m     forth_obj.push_active_node(forth_stash)\n\u001b[32m--> \u001b[39m\u001b[32m854\u001b[39m \u001b[38;5;28;43mself\u001b[39;49m\u001b[43m.\u001b[49m\u001b[43mread_members\u001b[49m\u001b[43m(\u001b[49m\u001b[43mchunk\u001b[49m\u001b[43m,\u001b[49m\u001b[43m \u001b[49m\u001b[43mcursor\u001b[49m\u001b[43m,\u001b[49m\u001b[43m \u001b[49m\u001b[43mcontext\u001b[49m\u001b[43m,\u001b[49m\u001b[43m \u001b[49m\u001b[43mfile\u001b[49m\u001b[43m)\u001b[49m\n\u001b[32m    855\u001b[39m \u001b[38;5;28;01mif\u001b[39;00m forth_obj \u001b[38;5;129;01mis\u001b[39;00m \u001b[38;5;129;01mnot\u001b[39;00m \u001b[38;5;28;01mNone\u001b[39;00m:\n\u001b[32m    856\u001b[39m     forth_obj.pop_active_node()\n",
      "\u001b[36mFile \u001b[39m\u001b[32m/usr/local/lib/python3.13/dist-packages/uproot/models/TBranch.py:485\u001b[39m, in \u001b[36mModel_TBranch_v13.read_members\u001b[39m\u001b[34m(self, chunk, cursor, context, file)\u001b[39m\n\u001b[32m    473\u001b[39m \u001b[38;5;28mself\u001b[39m._members[\u001b[33m\"\u001b[39m\u001b[33mfIOFeatures\u001b[39m\u001b[33m\"\u001b[39m] = file.class_named(\u001b[33m\"\u001b[39m\u001b[33mROOT::TIOFeatures\u001b[39m\u001b[33m\"\u001b[39m).read(\n\u001b[32m    474\u001b[39m     chunk, cursor, context, file, \u001b[38;5;28mself\u001b[39m._file, \u001b[38;5;28mself\u001b[39m.concrete\n\u001b[32m    475\u001b[39m )\n\u001b[32m    476\u001b[39m (\n\u001b[32m    477\u001b[39m     \u001b[38;5;28mself\u001b[39m._members[\u001b[33m\"\u001b[39m\u001b[33mfOffset\u001b[39m\u001b[33m\"\u001b[39m],\n\u001b[32m    478\u001b[39m     \u001b[38;5;28mself\u001b[39m._members[\u001b[33m\"\u001b[39m\u001b[33mfMaxBaskets\u001b[39m\u001b[33m\"\u001b[39m],\n\u001b[32m   (...)\u001b[39m\u001b[32m    483\u001b[39m     \u001b[38;5;28mself\u001b[39m._members[\u001b[33m\"\u001b[39m\u001b[33mfZipBytes\u001b[39m\u001b[33m\"\u001b[39m],\n\u001b[32m    484\u001b[39m ) = cursor.fields(chunk, _tbranch13_format2, context)\n\u001b[32m--> \u001b[39m\u001b[32m485\u001b[39m \u001b[38;5;28mself\u001b[39m._members[\u001b[33m\"\u001b[39m\u001b[33mfBranches\u001b[39m\u001b[33m\"\u001b[39m] = \u001b[43mfile\u001b[49m\u001b[43m.\u001b[49m\u001b[43mclass_named\u001b[49m\u001b[43m(\u001b[49m\u001b[33;43m\"\u001b[39;49m\u001b[33;43mTObjArray\u001b[39;49m\u001b[33;43m\"\u001b[39;49m\u001b[43m)\u001b[49m.read(\n\u001b[32m    486\u001b[39m     chunk, cursor, context, file, \u001b[38;5;28mself\u001b[39m._file, \u001b[38;5;28mself\u001b[39m.concrete\n\u001b[32m    487\u001b[39m )\n\u001b[32m    488\u001b[39m \u001b[38;5;28mself\u001b[39m._members[\u001b[33m\"\u001b[39m\u001b[33mfLeaves\u001b[39m\u001b[33m\"\u001b[39m] = file.class_named(\u001b[33m\"\u001b[39m\u001b[33mTObjArray\u001b[39m\u001b[33m\"\u001b[39m).read(\n\u001b[32m    489\u001b[39m     chunk, cursor, context, file, \u001b[38;5;28mself\u001b[39m._file, \u001b[38;5;28mself\u001b[39m.concrete\n\u001b[32m    490\u001b[39m )\n\u001b[32m    491\u001b[39m \u001b[38;5;28mself\u001b[39m._cursor_baskets = cursor.copy()\n",
      "\u001b[36mFile \u001b[39m\u001b[32m/usr/local/lib/python3.13/dist-packages/uproot/reading.py:1100\u001b[39m, in \u001b[36mReadOnlyFile.class_named\u001b[39m\u001b[34m(self, classname, version)\u001b[39m\n\u001b[32m   1083\u001b[39m \u001b[38;5;28;01mdef\u001b[39;00m\u001b[38;5;250m \u001b[39m\u001b[34mclass_named\u001b[39m(\u001b[38;5;28mself\u001b[39m, classname, version=\u001b[38;5;28;01mNone\u001b[39;00m):\n\u001b[32m   1084\u001b[39m \u001b[38;5;250m    \u001b[39m\u001b[33;03m\"\"\"\u001b[39;00m\n\u001b[32m   1085\u001b[39m \u001b[33;03m    Returns or creates a class with a given C++ (decoded) ``classname``\u001b[39;00m\n\u001b[32m   1086\u001b[39m \u001b[33;03m    and possible ``version``.\u001b[39;00m\n\u001b[32m   (...)\u001b[39m\u001b[32m   1098\u001b[39m \u001b[33;03m    global ``uproot.classes``.\u001b[39;00m\n\u001b[32m   1099\u001b[39m \u001b[33;03m    \"\"\"\u001b[39;00m\n\u001b[32m-> \u001b[39m\u001b[32m1100\u001b[39m     classname = \u001b[43muproot\u001b[49m\u001b[43m.\u001b[49m\u001b[43mmodel\u001b[49m\u001b[43m.\u001b[49m\u001b[43mclassname_regularize\u001b[49m\u001b[43m(\u001b[49m\u001b[43mclassname\u001b[49m\u001b[43m)\u001b[49m\n\u001b[32m   1101\u001b[39m     classes = uproot.model.maybe_custom_classes(classname, \u001b[38;5;28mself\u001b[39m._custom_classes)\n\u001b[32m   1102\u001b[39m     \u001b[38;5;28mcls\u001b[39m = classes.get(classname)\n",
      "\u001b[36mFile \u001b[39m\u001b[32m/usr/local/lib/python3.13/dist-packages/uproot/model.py:158\u001b[39m, in \u001b[36mclassname_regularize\u001b[39m\u001b[34m(classname)\u001b[39m\n\u001b[32m    150\u001b[39m \u001b[38;5;250m\u001b[39m\u001b[33;03m\"\"\"\u001b[39;00m\n\u001b[32m    151\u001b[39m \u001b[33;03mRemoves spaces around ``<``, ``>``, and ``::`` characters in a classname\u001b[39;00m\n\u001b[32m    152\u001b[39m \u001b[33;03mso that they can be matched by string name.\u001b[39;00m\n\u001b[32m   (...)\u001b[39m\u001b[32m    155\u001b[39m \u001b[33;03ma string and it returns a string.\u001b[39;00m\n\u001b[32m    156\u001b[39m \u001b[33;03m\"\"\"\u001b[39;00m\n\u001b[32m    157\u001b[39m \u001b[38;5;28;01mif\u001b[39;00m classname \u001b[38;5;129;01mis\u001b[39;00m \u001b[38;5;129;01mnot\u001b[39;00m \u001b[38;5;28;01mNone\u001b[39;00m:\n\u001b[32m--> \u001b[39m\u001b[32m158\u001b[39m     classname = \u001b[43mre\u001b[49m\u001b[43m.\u001b[49m\u001b[43msub\u001b[49m\u001b[43m(\u001b[49m\u001b[43m_classname_regularize\u001b[49m\u001b[43m,\u001b[49m\u001b[43m \u001b[49m\u001b[33;43mr\u001b[39;49m\u001b[33;43m\"\u001b[39;49m\u001b[33;43m\\\u001b[39;49m\u001b[33;43m1\u001b[39;49m\u001b[33;43m\"\u001b[39;49m\u001b[43m,\u001b[49m\u001b[43m \u001b[49m\u001b[43mclassname\u001b[49m\u001b[43m)\u001b[49m\n\u001b[32m    160\u001b[39m     m = _classname_regularize_type.search(classname)\n\u001b[32m    162\u001b[39m     \u001b[38;5;28;01mwhile\u001b[39;00m m \u001b[38;5;129;01mis\u001b[39;00m \u001b[38;5;129;01mnot\u001b[39;00m \u001b[38;5;28;01mNone\u001b[39;00m:\n",
      "\u001b[36mFile \u001b[39m\u001b[32m/usr/lib/python3.13/re/__init__.py:208\u001b[39m, in \u001b[36msub\u001b[39m\u001b[34m(pattern, repl, string, count, flags, *args)\u001b[39m\n\u001b[32m    202\u001b[39m     \u001b[38;5;28;01mimport\u001b[39;00m\u001b[38;5;250m \u001b[39m\u001b[34;01mwarnings\u001b[39;00m\n\u001b[32m    203\u001b[39m     warnings.warn(\n\u001b[32m    204\u001b[39m         \u001b[33m\"\u001b[39m\u001b[33m'\u001b[39m\u001b[33mcount\u001b[39m\u001b[33m'\u001b[39m\u001b[33m is passed as positional argument\u001b[39m\u001b[33m\"\u001b[39m,\n\u001b[32m    205\u001b[39m         \u001b[38;5;167;01mDeprecationWarning\u001b[39;00m, stacklevel=\u001b[32m2\u001b[39m\n\u001b[32m    206\u001b[39m     )\n\u001b[32m--> \u001b[39m\u001b[32m208\u001b[39m \u001b[38;5;28;01mreturn\u001b[39;00m \u001b[43m_compile\u001b[49m\u001b[43m(\u001b[49m\u001b[43mpattern\u001b[49m\u001b[43m,\u001b[49m\u001b[43m \u001b[49m\u001b[43mflags\u001b[49m\u001b[43m)\u001b[49m.sub(repl, string, count)\n",
      "\u001b[36mFile \u001b[39m\u001b[32m/usr/lib/python3.13/re/__init__.py:341\u001b[39m, in \u001b[36m_compile\u001b[39m\u001b[34m(pattern, flags)\u001b[39m\n\u001b[32m    339\u001b[39m key = (\u001b[38;5;28mtype\u001b[39m(pattern), pattern, flags)\n\u001b[32m    340\u001b[39m \u001b[38;5;66;03m# Item in _cache should be moved to the end if found.\u001b[39;00m\n\u001b[32m--> \u001b[39m\u001b[32m341\u001b[39m p = \u001b[43m_cache\u001b[49m\u001b[43m.\u001b[49m\u001b[43mpop\u001b[49m\u001b[43m(\u001b[49m\u001b[43mkey\u001b[49m\u001b[43m,\u001b[49m\u001b[43m \u001b[49m\u001b[38;5;28;43;01mNone\u001b[39;49;00m\u001b[43m)\u001b[49m\n\u001b[32m    342\u001b[39m \u001b[38;5;28;01mif\u001b[39;00m p \u001b[38;5;129;01mis\u001b[39;00m \u001b[38;5;28;01mNone\u001b[39;00m:\n\u001b[32m    343\u001b[39m     \u001b[38;5;28;01mif\u001b[39;00m \u001b[38;5;28misinstance\u001b[39m(pattern, Pattern):\n",
      "\u001b[31mKeyboardInterrupt\u001b[39m: "
     ]
    }
   ],
   "source": [
    "atlas_parser.parse_all_files(schemas.E_POSI_MUON_SCHEMA, limit = 30)"
   ]
  },
  {
   "cell_type": "code",
   "execution_count": null,
   "id": "35b48991-4b0c-4b3a-a23e-00e285c71b4b",
   "metadata": {
    "ExecuteTime": {
     "end_time": "2025-06-21T17:09:40.129899Z",
     "start_time": "2025-06-21T17:09:40.028552Z"
    },
    "tags": [],
    "trusted": true
   },
   "outputs": [
    {
     "ename": "AttributeError",
     "evalue": "'list' object has no attribute 'BTagging_AntiKt4EMPFlow'",
     "output_type": "error",
     "traceback": [
      "\u001b[31m---------------------------------------------------------------------------\u001b[39m",
      "\u001b[31mAttributeError\u001b[39m                            Traceback (most recent call last)",
      "\u001b[36mCell\u001b[39m\u001b[36m \u001b[39m\u001b[32mIn[7]\u001b[39m\u001b[32m, line 40\u001b[39m\n\u001b[32m     33\u001b[39m     events = events[\n\u001b[32m     34\u001b[39m         (ak.num(events.Jets) >= \u001b[32m4\u001b[39m) \u001b[38;5;66;03m# at least 4 jets\u001b[39;00m\n\u001b[32m     35\u001b[39m         & ((ak.num(events.Electrons) + ak.num(events.Muons)) == \u001b[32m1\u001b[39m) \u001b[38;5;66;03m# exactly one lepton\u001b[39;00m\n\u001b[32m     36\u001b[39m         & (ak.num(events.Jets[events.Jets.is_bjet]) >= \u001b[32m2\u001b[39m) \u001b[38;5;66;03m# at least two btagged jets with prob > 0.85\u001b[39;00m\n\u001b[32m     37\u001b[39m     ]\n\u001b[32m     38\u001b[39m     \u001b[38;5;28;01mreturn\u001b[39;00m ak.to_packed(events)\n\u001b[32m---> \u001b[39m\u001b[32m40\u001b[39m events = \u001b[43mprocessed\u001b[49m\u001b[43m(\u001b[49m\u001b[43matlas_parser\u001b[49m\u001b[43m.\u001b[49m\u001b[43mevents\u001b[49m\u001b[43m)\u001b[49m\n\u001b[32m     41\u001b[39m plt.hist(ak.flatten(mjjj(events.Jets) / GeV, axis=\u001b[38;5;28;01mNone\u001b[39;00m), bins=\u001b[32m100\u001b[39m)\n\u001b[32m     42\u001b[39m plt.xlabel(\u001b[33m\"\u001b[39m\u001b[33mReconstructed Top Quark Mass (GeV)\u001b[39m\u001b[33m\"\u001b[39m)\n",
      "\u001b[36mCell\u001b[39m\u001b[36m \u001b[39m\u001b[32mIn[7]\u001b[39m\u001b[32m, line 27\u001b[39m, in \u001b[36mprocessed\u001b[39m\u001b[34m(events)\u001b[39m\n\u001b[32m     25\u001b[39m \u001b[38;5;28;01mdef\u001b[39;00m\u001b[38;5;250m \u001b[39m\u001b[34mprocessed\u001b[39m(events):\n\u001b[32m     26\u001b[39m     events = copy.copy(events) \u001b[38;5;66;03m# shallow copy\u001b[39;00m\n\u001b[32m---> \u001b[39m\u001b[32m27\u001b[39m     events[\u001b[33m\"\u001b[39m\u001b[33mJets\u001b[39m\u001b[33m\"\u001b[39m, \u001b[33m\"\u001b[39m\u001b[33mbtag_prob\u001b[39m\u001b[33m\"\u001b[39m] = \u001b[43mevents\u001b[49m\u001b[43m.\u001b[49m\u001b[43mBTagging_AntiKt4EMPFlow\u001b[49m.DL1dv01_pb\n\u001b[32m     28\u001b[39m     events[\u001b[33m\"\u001b[39m\u001b[33mElectrons\u001b[39m\u001b[33m\"\u001b[39m] = selected_electrons(events.Electrons)\n\u001b[32m     29\u001b[39m     events[\u001b[33m\"\u001b[39m\u001b[33mMuons\u001b[39m\u001b[33m\"\u001b[39m] = selected_muons(events.Muons)\n",
      "\u001b[31mAttributeError\u001b[39m: 'list' object has no attribute 'BTagging_AntiKt4EMPFlow'"
     ]
    }
   ],
   "source": [
    "GeV = 1000.\n",
    "\n",
    "def selected_electrons(el):\n",
    "    return el[(el.pt > 10 * GeV) & (abs(el.eta) < 2.47)]\n",
    "\n",
    "def selected_muons(mu):\n",
    "    return mu[(mu.pt > 10 * GeV) & (abs(mu.eta) < 2.47)]\n",
    "\n",
    "def selected_jets(j):\n",
    "    return j[(j.pt > 10 * GeV) & (abs(j.eta) < 2.47)]\n",
    "\n",
    "def no_overlap(obj1, obj2, deltaR=0.4):\n",
    "    obj1, obj2 = ak.unzip(ak.cartesian([obj1, obj2], nested=True))\n",
    "    return ak.all(obj1.deltaR(obj2) > deltaR, axis=-1)\n",
    "\n",
    "def mjjj(jets):\n",
    "    candidates = ak.combinations(jets, 3)\n",
    "    j1, j2, j3 = ak.unzip(candidates)\n",
    "    has_b = (j1.is_bjet + j2.is_bjet + j3.is_bjet) > 0\n",
    "    candidates[\"p4\"] = j1 + j2 + j3\n",
    "    candidates = candidates[has_b]\n",
    "    candidates = candidates[ak.argmax(candidates.p4.pt, axis=1, keepdims=True)]\n",
    "    return candidates.p4.mass\n",
    "\n",
    "def processed(events):\n",
    "    events = copy.copy(events) # shallow copy\n",
    "    events[\"Jets\", \"btag_prob\"] = events.BTagging_AntiKt4EMPFlow.DL1dv01_pb\n",
    "    events[\"Electrons\"] = selected_electrons(events.Electrons)\n",
    "    events[\"Muons\"] = selected_muons(events.Muons)\n",
    "    events[\"Jets\"] = selected_jets(events.Jets)\n",
    "    events[\"Jets\"] = events.Jets[no_overlap(events.Jets, events.Electrons)]\n",
    "    events[\"Jets\", \"is_bjet\"] = events.Jets.btag_prob > 0.85\n",
    "    events = events[\n",
    "        (ak.num(events.Jets) >= 4) # at least 4 jets\n",
    "        & ((ak.num(events.Electrons) + ak.num(events.Muons)) == 1) # exactly one lepton\n",
    "        & (ak.num(events.Jets[events.Jets.is_bjet]) >= 2) # at least two btagged jets with prob > 0.85\n",
    "    ]\n",
    "    return ak.to_packed(events)\n",
    "\n",
    "events = processed(atlas_parser.events)\n",
    "plt.hist(ak.flatten(mjjj(events.Jets) / GeV, axis=None), bins=100)\n",
    "plt.xlabel(\"Reconstructed Top Quark Mass (GeV)\")\n",
    "plt.ylabel(\"Number of Events\")\n",
    "plt.title(\"Distribution of Reconstructed Top Quark Mass\")\n",
    "plt.axvline(172.76, color='r', linestyle='dashed', linewidth=2, label='Expected Top Quark Mass')\n",
    "plt.legend()\n",
    "plt.show()\n",
    "\n",
    "print('Total events:', len(atlas_parser.events))\n",
    "print('Events after filtering:', len(events))"
   ]
  },
  {
   "cell_type": "code",
   "execution_count": null,
   "id": "62bbd7e9-30d8-4976-a96d-e9f692838c87",
   "metadata": {},
   "outputs": [
    {
     "name": "stdout",
     "output_type": "stream",
     "text": [
      "[{AnalysisElectrons: [{rho: 4.41e+03, ...}], AnalysisMuons: []}, ..., {...}]\n"
     ]
    },
    {
     "ename": "AttributeError",
     "evalue": "no field named 'Electrons'",
     "output_type": "error",
     "traceback": [
      "\u001b[0;31m---------------------------------------------------------------------------\u001b[0m",
      "\u001b[0;31mAttributeError\u001b[0m                            Traceback (most recent call last)",
      "Cell \u001b[0;32mIn[94], line 19\u001b[0m\n\u001b[1;32m     16\u001b[0m     \u001b[38;5;28;01mreturn\u001b[39;00m ak\u001b[38;5;241m.\u001b[39mto_packed(events)\n\u001b[1;32m     18\u001b[0m \u001b[38;5;28mprint\u001b[39m(atlas_parser\u001b[38;5;241m.\u001b[39mevents)\n\u001b[0;32m---> 19\u001b[0m events \u001b[38;5;241m=\u001b[39m \u001b[43melectron_posi_muon_antimuon\u001b[49m\u001b[43m(\u001b[49m\u001b[43matlas_parser\u001b[49m\u001b[38;5;241;43m.\u001b[39;49m\u001b[43mevents\u001b[49m\u001b[43m)\u001b[49m\n\u001b[1;32m     20\u001b[0m plt\u001b[38;5;241m.\u001b[39mhist(ak\u001b[38;5;241m.\u001b[39mflatten(events) \u001b[38;5;241m/\u001b[39m GeV, axis\u001b[38;5;241m=\u001b[39m\u001b[38;5;28;01mNone\u001b[39;00m, bins\u001b[38;5;241m=\u001b[39m\u001b[38;5;241m100\u001b[39m)\n\u001b[1;32m     21\u001b[0m plt\u001b[38;5;241m.\u001b[39mxlabel(\u001b[38;5;124m\"\u001b[39m\u001b[38;5;124mReconstructed Top Quark Mass (GeV)\u001b[39m\u001b[38;5;124m\"\u001b[39m)\n",
      "Cell \u001b[0;32mIn[94], line 6\u001b[0m, in \u001b[0;36melectron_posi_muon_antimuon\u001b[0;34m(events)\u001b[0m\n\u001b[1;32m      4\u001b[0m \u001b[38;5;28;01mdef\u001b[39;00m\u001b[38;5;250m \u001b[39m\u001b[38;5;21melectron_posi_muon_antimuon\u001b[39m(events):\n\u001b[1;32m      5\u001b[0m     events \u001b[38;5;241m=\u001b[39m copy\u001b[38;5;241m.\u001b[39mcopy(events) \u001b[38;5;66;03m# shallow copy\u001b[39;00m\n\u001b[0;32m----> 6\u001b[0m     events[\u001b[38;5;124m\"\u001b[39m\u001b[38;5;124mElectrons\u001b[39m\u001b[38;5;124m\"\u001b[39m] \u001b[38;5;241m=\u001b[39m selected_electrons(\u001b[43mevents\u001b[49m\u001b[38;5;241;43m.\u001b[39;49m\u001b[43mElectrons\u001b[49m)\n\u001b[1;32m      7\u001b[0m     events[\u001b[38;5;124m\"\u001b[39m\u001b[38;5;124mMuons\u001b[39m\u001b[38;5;124m\"\u001b[39m] \u001b[38;5;241m=\u001b[39m selected_muons(events\u001b[38;5;241m.\u001b[39mMuons)\n\u001b[1;32m      8\u001b[0m     events[\u001b[38;5;124m\"\u001b[39m\u001b[38;5;124mElectrons\u001b[39m\u001b[38;5;124m\"\u001b[39m, \u001b[38;5;124m\"\u001b[39m\u001b[38;5;124mis_neg\u001b[39m\u001b[38;5;124m\"\u001b[39m] \u001b[38;5;241m=\u001b[39m events\u001b[38;5;241m.\u001b[39mElectrons\u001b[38;5;241m.\u001b[39mcharge \u001b[38;5;241m<\u001b[39m \u001b[38;5;241m0\u001b[39m\n",
      "File \u001b[0;32m/usr/local/lib/python3.12/dist-packages/awkward/highlevel.py:1289\u001b[0m, in \u001b[0;36mArray.__getattr__\u001b[0;34m(self, where)\u001b[0m\n\u001b[1;32m   1284\u001b[0m         \u001b[38;5;28;01mraise\u001b[39;00m \u001b[38;5;167;01mAttributeError\u001b[39;00m(\n\u001b[1;32m   1285\u001b[0m             \u001b[38;5;124mf\u001b[39m\u001b[38;5;124m\"\u001b[39m\u001b[38;5;124mwhile trying to get field \u001b[39m\u001b[38;5;132;01m{\u001b[39;00mwhere\u001b[38;5;132;01m!r}\u001b[39;00m\u001b[38;5;124m, an exception \u001b[39m\u001b[38;5;124m\"\u001b[39m\n\u001b[1;32m   1286\u001b[0m             \u001b[38;5;124mf\u001b[39m\u001b[38;5;124m\"\u001b[39m\u001b[38;5;124moccurred:\u001b[39m\u001b[38;5;130;01m\\n\u001b[39;00m\u001b[38;5;132;01m{\u001b[39;00m\u001b[38;5;28mtype\u001b[39m(err)\u001b[38;5;132;01m}\u001b[39;00m\u001b[38;5;124m: \u001b[39m\u001b[38;5;132;01m{\u001b[39;00merr\u001b[38;5;132;01m!s}\u001b[39;00m\u001b[38;5;124m\"\u001b[39m\n\u001b[1;32m   1287\u001b[0m         ) \u001b[38;5;28;01mfrom\u001b[39;00m\u001b[38;5;250m \u001b[39m\u001b[38;5;21;01merr\u001b[39;00m\n\u001b[1;32m   1288\u001b[0m \u001b[38;5;28;01melse\u001b[39;00m:\n\u001b[0;32m-> 1289\u001b[0m     \u001b[38;5;28;01mraise\u001b[39;00m \u001b[38;5;167;01mAttributeError\u001b[39;00m(\u001b[38;5;124mf\u001b[39m\u001b[38;5;124m\"\u001b[39m\u001b[38;5;124mno field named \u001b[39m\u001b[38;5;132;01m{\u001b[39;00mwhere\u001b[38;5;132;01m!r}\u001b[39;00m\u001b[38;5;124m\"\u001b[39m)\n",
      "\u001b[0;31mAttributeError\u001b[0m: no field named 'Electrons'"
     ]
    }
   ],
   "source": [
    "def selected_electrons(el):\n",
    "    return el[(el.pt > 10 * GeV) & (abs(el.eta) < 2.47)]\n",
    "\n",
    "def electron_posi_muon_antimuon(events):\n",
    "    events = copy.copy(events) # shallow copy\n",
    "    events[\"Electrons\"] = selected_electrons(events.Electrons)\n",
    "    events[\"Muons\"] = selected_muons(events.Muons)\n",
    "    events[\"Electrons\", \"is_neg\"] = events.Electrons.charge < 0\n",
    "    events[\"Muons\", \"is_neg\"] = events.Muons.charge < 0\n",
    "    events = events[\n",
    "        (ak.num(events.Electrons) == 2) \n",
    "        & (ak.num(events.Muons) == 2)\n",
    "        # & (ak.num(events.Electrons[events.Electrons.is_neg]) == 1)\n",
    "        # & (ak.num(events.Muons[events.Muons.is_neg]) == 1)\n",
    "    ]\n",
    "    return ak.to_packed(events)\n",
    "\n",
    "events = electron_posi_muon_antimuon(atlas_parser.events)\n",
    "plt.hist(ak.flatten(events) / GeV, axis=None, bins=100)\n",
    "plt.xlabel(\"Reconstructed Top Quark Mass (GeV)\")\n",
    "plt.ylabel(\"Number of Events\")\n",
    "plt.title(\"Distribution of Reconstructed Top Quark Mass\")\n",
    "plt.axvline(172.76, color='r', linestyle='dashed', linewidth=2, label='Expected Top Quark Mass')\n",
    "plt.legend()\n",
    "plt.show()\n",
    "\n",
    "print('Total events:', len(atlas_parser.events))\n",
    "print('Events after filtering:', len(events))"
   ]
  },
  {
   "cell_type": "code",
   "execution_count": null,
   "id": "01e9d32f",
   "metadata": {},
   "outputs": [],
   "source": []
  }
 ],
 "metadata": {
  "kernelspec": {
   "display_name": "venv",
   "language": "python",
   "name": "python3"
  },
  "language_info": {
   "codemirror_mode": {
    "name": "ipython",
    "version": 3
   },
   "file_extension": ".py",
   "mimetype": "text/x-python",
   "name": "python",
   "nbconvert_exporter": "python",
   "pygments_lexer": "ipython3",
   "version": "3.13.3"
  }
 },
 "nbformat": 4,
 "nbformat_minor": 5
}
