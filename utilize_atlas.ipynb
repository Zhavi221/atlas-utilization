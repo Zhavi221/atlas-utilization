{
 "cells": [
  {
   "cell_type": "code",
   "execution_count": 1,
   "id": "cff11ca7-aab1-492b-90c1-1fc5d00faa22",
   "metadata": {
    "tags": [],
    "trusted": true
   },
   "outputs": [],
   "source": [
    "import copy # copy variables\n",
    "import os   # manage paths\n",
    "\n",
    "import uproot   # use of root files\n",
    "import awkward as ak    # nested, variable sized data\n",
    "import vector   # lorentz vectors\n",
    "vector.register_awkward()\n",
    "import matplotlib.pyplot as plt # plotting\n",
    "import tqdm # progress bars\n",
    "import ROOT\n",
    "\n",
    "from parse_atlas import parser, consts, schemas\n",
    "\n",
    "import traceback\n",
    "%load_ext autoreload\n",
    "%autoreload 2"
   ]
  },
  {
   "cell_type": "code",
   "execution_count": 22,
   "id": "30c8a1cc",
   "metadata": {},
   "outputs": [
    {
     "name": "stdout",
     "output_type": "stream",
     "text": [
      "Successfuly retrieved all indexes.\n",
      "Total amount of files found -  45571\n"
     ]
    }
   ],
   "source": [
    "atlas_parser = parser.ATLAS_Parser()\n",
    "atlas_parser.get_data_index([consts.ATLAS_13TEV_2016_RECORD])\n",
    "# atlas_parser.get_data_index(consts.ATLAS_13TEV_RECIDS)"
   ]
  },
  {
   "cell_type": "code",
   "execution_count": 70,
   "id": "b0caa1cf",
   "metadata": {},
   "outputs": [
    {
     "name": "stderr",
     "output_type": "stream",
     "text": [
      "INFO:root:Processing file - root://eospublic.cern.ch//eos/opendata/atlas/rucio/data16_13TeV/DAOD_PHYSLITE.37019878._000001.pool.root.1\n"
     ]
    },
    {
     "name": "stderr",
     "output_type": "stream",
     "text": [
      "INFO:root:Finished\n",
      "INFO:root:Processing file - root://eospublic.cern.ch//eos/opendata/atlas/rucio/data16_13TeV/DAOD_PHYSLITE.37019878._000002.pool.root.1\n",
      "INFO:root:Finished\n",
      "INFO:root:Processing file - root://eospublic.cern.ch//eos/opendata/atlas/rucio/data16_13TeV/DAOD_PHYSLITE.37019878._000003.pool.root.1\n",
      "INFO:root:Finished\n",
      "INFO:root:Processing file - root://eospublic.cern.ch//eos/opendata/atlas/rucio/data16_13TeV/DAOD_PHYSLITE.37019878._000004.pool.root.1\n",
      "INFO:root:Finished\n",
      "INFO:root:Processing file - root://eospublic.cern.ch//eos/opendata/atlas/rucio/data16_13TeV/DAOD_PHYSLITE.37019878._000006.pool.root.1\n",
      "INFO:root:Finished\n",
      "INFO:root:Processing file - root://eospublic.cern.ch//eos/opendata/atlas/rucio/data16_13TeV/DAOD_PHYSLITE.37019878._000007.pool.root.1\n",
      "INFO:root:Finished\n",
      "INFO:root:Processing file - root://eospublic.cern.ch//eos/opendata/atlas/rucio/data16_13TeV/DAOD_PHYSLITE.37019878._000008.pool.root.1\n",
      "INFO:root:Finished\n",
      "INFO:root:Processing file - root://eospublic.cern.ch//eos/opendata/atlas/rucio/data16_13TeV/DAOD_PHYSLITE.37019878._000009.pool.root.1\n",
      "INFO:root:Finished\n",
      "INFO:root:Processing file - root://eospublic.cern.ch//eos/opendata/atlas/rucio/data16_13TeV/DAOD_PHYSLITE.37019878._000011.pool.root.1\n",
      "INFO:root:Finished\n",
      "INFO:root:Processing file - root://eospublic.cern.ch//eos/opendata/atlas/rucio/data16_13TeV/DAOD_PHYSLITE.37019878._000012.pool.root.1\n",
      "INFO:root:Finished\n"
     ]
    }
   ],
   "source": [
    "atlas_parser.parse_all_files(schemas.E_POSI_MUON_SCHEMA, limit = 10)"
   ]
  },
  {
   "cell_type": "code",
   "execution_count": 47,
   "id": "35b48991-4b0c-4b3a-a23e-00e285c71b4b",
   "metadata": {
    "tags": [],
    "trusted": true
   },
   "outputs": [
    {
     "ename": "AttributeError",
     "evalue": "no field named 'BTagging_AntiKt4EMPFlow'",
     "output_type": "error",
     "traceback": [
      "\u001b[0;31m---------------------------------------------------------------------------\u001b[0m",
      "\u001b[0;31mAttributeError\u001b[0m                            Traceback (most recent call last)",
      "Cell \u001b[0;32mIn[47], line 40\u001b[0m\n\u001b[1;32m     33\u001b[0m     events \u001b[38;5;241m=\u001b[39m events[\n\u001b[1;32m     34\u001b[0m         (ak\u001b[38;5;241m.\u001b[39mnum(events\u001b[38;5;241m.\u001b[39mJets) \u001b[38;5;241m>\u001b[39m\u001b[38;5;241m=\u001b[39m \u001b[38;5;241m4\u001b[39m) \u001b[38;5;66;03m# at least 4 jets\u001b[39;00m\n\u001b[1;32m     35\u001b[0m         \u001b[38;5;241m&\u001b[39m ((ak\u001b[38;5;241m.\u001b[39mnum(events\u001b[38;5;241m.\u001b[39mElectrons) \u001b[38;5;241m+\u001b[39m ak\u001b[38;5;241m.\u001b[39mnum(events\u001b[38;5;241m.\u001b[39mMuons)) \u001b[38;5;241m==\u001b[39m \u001b[38;5;241m1\u001b[39m) \u001b[38;5;66;03m# exactly one lepton\u001b[39;00m\n\u001b[1;32m     36\u001b[0m         \u001b[38;5;241m&\u001b[39m (ak\u001b[38;5;241m.\u001b[39mnum(events\u001b[38;5;241m.\u001b[39mJets[events\u001b[38;5;241m.\u001b[39mJets\u001b[38;5;241m.\u001b[39mis_bjet]) \u001b[38;5;241m>\u001b[39m\u001b[38;5;241m=\u001b[39m \u001b[38;5;241m2\u001b[39m) \u001b[38;5;66;03m# at least two btagged jets with prob > 0.85\u001b[39;00m\n\u001b[1;32m     37\u001b[0m     ]\n\u001b[1;32m     38\u001b[0m     \u001b[38;5;28;01mreturn\u001b[39;00m ak\u001b[38;5;241m.\u001b[39mto_packed(events)\n\u001b[0;32m---> 40\u001b[0m events \u001b[38;5;241m=\u001b[39m \u001b[43mprocessed\u001b[49m\u001b[43m(\u001b[49m\u001b[43matlas_parser\u001b[49m\u001b[38;5;241;43m.\u001b[39;49m\u001b[43mevents\u001b[49m\u001b[43m)\u001b[49m\n\u001b[1;32m     41\u001b[0m plt\u001b[38;5;241m.\u001b[39mhist(ak\u001b[38;5;241m.\u001b[39mflatten(mjjj(events\u001b[38;5;241m.\u001b[39mJets) \u001b[38;5;241m/\u001b[39m GeV, axis\u001b[38;5;241m=\u001b[39m\u001b[38;5;28;01mNone\u001b[39;00m), bins\u001b[38;5;241m=\u001b[39m\u001b[38;5;241m100\u001b[39m)\n\u001b[1;32m     42\u001b[0m plt\u001b[38;5;241m.\u001b[39mxlabel(\u001b[38;5;124m\"\u001b[39m\u001b[38;5;124mReconstructed Top Quark Mass (GeV)\u001b[39m\u001b[38;5;124m\"\u001b[39m)\n",
      "Cell \u001b[0;32mIn[47], line 27\u001b[0m, in \u001b[0;36mprocessed\u001b[0;34m(events)\u001b[0m\n\u001b[1;32m     25\u001b[0m \u001b[38;5;28;01mdef\u001b[39;00m\u001b[38;5;250m \u001b[39m\u001b[38;5;21mprocessed\u001b[39m(events):\n\u001b[1;32m     26\u001b[0m     events \u001b[38;5;241m=\u001b[39m copy\u001b[38;5;241m.\u001b[39mcopy(events) \u001b[38;5;66;03m# shallow copy\u001b[39;00m\n\u001b[0;32m---> 27\u001b[0m     events[\u001b[38;5;124m\"\u001b[39m\u001b[38;5;124mJets\u001b[39m\u001b[38;5;124m\"\u001b[39m, \u001b[38;5;124m\"\u001b[39m\u001b[38;5;124mbtag_prob\u001b[39m\u001b[38;5;124m\"\u001b[39m] \u001b[38;5;241m=\u001b[39m \u001b[43mevents\u001b[49m\u001b[38;5;241;43m.\u001b[39;49m\u001b[43mBTagging_AntiKt4EMPFlow\u001b[49m\u001b[38;5;241m.\u001b[39mDL1dv01_pb\n\u001b[1;32m     28\u001b[0m     events[\u001b[38;5;124m\"\u001b[39m\u001b[38;5;124mElectrons\u001b[39m\u001b[38;5;124m\"\u001b[39m] \u001b[38;5;241m=\u001b[39m selected_electrons(events\u001b[38;5;241m.\u001b[39mElectrons)\n\u001b[1;32m     29\u001b[0m     events[\u001b[38;5;124m\"\u001b[39m\u001b[38;5;124mMuons\u001b[39m\u001b[38;5;124m\"\u001b[39m] \u001b[38;5;241m=\u001b[39m selected_muons(events\u001b[38;5;241m.\u001b[39mMuons)\n",
      "File \u001b[0;32m/usr/local/lib/python3.12/dist-packages/awkward/highlevel.py:1289\u001b[0m, in \u001b[0;36mArray.__getattr__\u001b[0;34m(self, where)\u001b[0m\n\u001b[1;32m   1284\u001b[0m         \u001b[38;5;28;01mraise\u001b[39;00m \u001b[38;5;167;01mAttributeError\u001b[39;00m(\n\u001b[1;32m   1285\u001b[0m             \u001b[38;5;124mf\u001b[39m\u001b[38;5;124m\"\u001b[39m\u001b[38;5;124mwhile trying to get field \u001b[39m\u001b[38;5;132;01m{\u001b[39;00mwhere\u001b[38;5;132;01m!r}\u001b[39;00m\u001b[38;5;124m, an exception \u001b[39m\u001b[38;5;124m\"\u001b[39m\n\u001b[1;32m   1286\u001b[0m             \u001b[38;5;124mf\u001b[39m\u001b[38;5;124m\"\u001b[39m\u001b[38;5;124moccurred:\u001b[39m\u001b[38;5;130;01m\\n\u001b[39;00m\u001b[38;5;132;01m{\u001b[39;00m\u001b[38;5;28mtype\u001b[39m(err)\u001b[38;5;132;01m}\u001b[39;00m\u001b[38;5;124m: \u001b[39m\u001b[38;5;132;01m{\u001b[39;00merr\u001b[38;5;132;01m!s}\u001b[39;00m\u001b[38;5;124m\"\u001b[39m\n\u001b[1;32m   1287\u001b[0m         ) \u001b[38;5;28;01mfrom\u001b[39;00m\u001b[38;5;250m \u001b[39m\u001b[38;5;21;01merr\u001b[39;00m\n\u001b[1;32m   1288\u001b[0m \u001b[38;5;28;01melse\u001b[39;00m:\n\u001b[0;32m-> 1289\u001b[0m     \u001b[38;5;28;01mraise\u001b[39;00m \u001b[38;5;167;01mAttributeError\u001b[39;00m(\u001b[38;5;124mf\u001b[39m\u001b[38;5;124m\"\u001b[39m\u001b[38;5;124mno field named \u001b[39m\u001b[38;5;132;01m{\u001b[39;00mwhere\u001b[38;5;132;01m!r}\u001b[39;00m\u001b[38;5;124m\"\u001b[39m)\n",
      "\u001b[0;31mAttributeError\u001b[0m: no field named 'BTagging_AntiKt4EMPFlow'"
     ]
    }
   ],
   "source": [
    "GeV = 1000.\n",
    "\n",
    "def selected_electrons(el):\n",
    "    return el[(el.pt > 10 * GeV) & (abs(el.eta) < 2.47)]\n",
    "\n",
    "def selected_muons(mu):\n",
    "    return mu[(mu.pt > 10 * GeV) & (abs(mu.eta) < 2.47)]\n",
    "\n",
    "def selected_jets(j):\n",
    "    return j[(j.pt > 10 * GeV) & (abs(j.eta) < 2.47)]\n",
    "\n",
    "def no_overlap(obj1, obj2, deltaR=0.4):\n",
    "    obj1, obj2 = ak.unzip(ak.cartesian([obj1, obj2], nested=True))\n",
    "    return ak.all(obj1.deltaR(obj2) > deltaR, axis=-1)\n",
    "\n",
    "def mjjj(jets):\n",
    "    candidates = ak.combinations(jets, 3)\n",
    "    j1, j2, j3 = ak.unzip(candidates)\n",
    "    has_b = (j1.is_bjet + j2.is_bjet + j3.is_bjet) > 0\n",
    "    candidates[\"p4\"] = j1 + j2 + j3\n",
    "    candidates = candidates[has_b]\n",
    "    candidates = candidates[ak.argmax(candidates.p4.pt, axis=1, keepdims=True)]\n",
    "    return candidates.p4.mass\n",
    "\n",
    "def processed(events):\n",
    "    events = copy.copy(events) # shallow copy\n",
    "    events[\"Jets\", \"btag_prob\"] = events.BTagging_AntiKt4EMPFlow.DL1dv01_pb\n",
    "    events[\"Electrons\"] = selected_electrons(events.Electrons)\n",
    "    events[\"Muons\"] = selected_muons(events.Muons)\n",
    "    events[\"Jets\"] = selected_jets(events.Jets)\n",
    "    events[\"Jets\"] = events.Jets[no_overlap(events.Jets, events.Electrons)]\n",
    "    events[\"Jets\", \"is_bjet\"] = events.Jets.btag_prob > 0.85\n",
    "    events = events[\n",
    "        (ak.num(events.Jets) >= 4) # at least 4 jets\n",
    "        & ((ak.num(events.Electrons) + ak.num(events.Muons)) == 1) # exactly one lepton\n",
    "        & (ak.num(events.Jets[events.Jets.is_bjet]) >= 2) # at least two btagged jets with prob > 0.85\n",
    "    ]\n",
    "    return ak.to_packed(events)\n",
    "\n",
    "events = processed(atlas_parser.events)\n",
    "plt.hist(ak.flatten(mjjj(events.Jets) / GeV, axis=None), bins=100)\n",
    "plt.xlabel(\"Reconstructed Top Quark Mass (GeV)\")\n",
    "plt.ylabel(\"Number of Events\")\n",
    "plt.title(\"Distribution of Reconstructed Top Quark Mass\")\n",
    "plt.axvline(172.76, color='r', linestyle='dashed', linewidth=2, label='Expected Top Quark Mass')\n",
    "plt.legend()\n",
    "plt.show()\n",
    "\n",
    "print('Total events:', len(atlas_parser.events))\n",
    "print('Events after filtering:', len(events))"
   ]
  },
  {
   "cell_type": "code",
   "execution_count": 78,
   "id": "62bbd7e9-30d8-4976-a96d-e9f692838c87",
   "metadata": {},
   "outputs": [
    {
     "ename": "ValueError",
     "evalue": "arrays of records cannot be flattened (but their contents can be; try a different 'axis')",
     "output_type": "error",
     "traceback": [
      "\u001b[0;31m---------------------------------------------------------------------------\u001b[0m",
      "\u001b[0;31mValueError\u001b[0m                                Traceback (most recent call last)",
      "Cell \u001b[0;32mIn[78], line 11\u001b[0m\n\u001b[1;32m      8\u001b[0m     \u001b[38;5;28;01mreturn\u001b[39;00m events\n\u001b[1;32m     10\u001b[0m events \u001b[38;5;241m=\u001b[39m electron_posi_muon_antimuon(atlas_parser\u001b[38;5;241m.\u001b[39mevents)\n\u001b[0;32m---> 11\u001b[0m plt\u001b[38;5;241m.\u001b[39mhist(\u001b[43mak\u001b[49m\u001b[38;5;241;43m.\u001b[39;49m\u001b[43mflatten\u001b[49m\u001b[43m(\u001b[49m\u001b[43mevents\u001b[49m\u001b[43m)\u001b[49m \u001b[38;5;241m/\u001b[39m GeV, axis\u001b[38;5;241m=\u001b[39m\u001b[38;5;28;01mNone\u001b[39;00m, bins\u001b[38;5;241m=\u001b[39m\u001b[38;5;241m100\u001b[39m)\n\u001b[1;32m     12\u001b[0m plt\u001b[38;5;241m.\u001b[39mxlabel(\u001b[38;5;124m\"\u001b[39m\u001b[38;5;124mReconstructed Top Quark Mass (GeV)\u001b[39m\u001b[38;5;124m\"\u001b[39m)\n\u001b[1;32m     13\u001b[0m plt\u001b[38;5;241m.\u001b[39mylabel(\u001b[38;5;124m\"\u001b[39m\u001b[38;5;124mNumber of Events\u001b[39m\u001b[38;5;124m\"\u001b[39m)\n",
      "File \u001b[0;32m/usr/local/lib/python3.12/dist-packages/awkward/_dispatch.py:64\u001b[0m, in \u001b[0;36mnamed_high_level_function.<locals>.dispatch\u001b[0;34m(*args, **kwargs)\u001b[0m\n\u001b[1;32m     62\u001b[0m \u001b[38;5;66;03m# Failed to find a custom overload, so resume the original function\u001b[39;00m\n\u001b[1;32m     63\u001b[0m \u001b[38;5;28;01mtry\u001b[39;00m:\n\u001b[0;32m---> 64\u001b[0m     \u001b[38;5;28;43mnext\u001b[39;49m\u001b[43m(\u001b[49m\u001b[43mgen_or_result\u001b[49m\u001b[43m)\u001b[49m\n\u001b[1;32m     65\u001b[0m \u001b[38;5;28;01mexcept\u001b[39;00m \u001b[38;5;167;01mStopIteration\u001b[39;00m \u001b[38;5;28;01mas\u001b[39;00m err:\n\u001b[1;32m     66\u001b[0m     \u001b[38;5;28;01mreturn\u001b[39;00m err\u001b[38;5;241m.\u001b[39mvalue\n",
      "File \u001b[0;32m/usr/local/lib/python3.12/dist-packages/awkward/operations/ak_flatten.py:178\u001b[0m, in \u001b[0;36mflatten\u001b[0;34m(array, axis, highlevel, behavior, attrs)\u001b[0m\n\u001b[1;32m    175\u001b[0m \u001b[38;5;28;01myield\u001b[39;00m (array,)\n\u001b[1;32m    177\u001b[0m \u001b[38;5;66;03m# Implementation\u001b[39;00m\n\u001b[0;32m--> 178\u001b[0m \u001b[38;5;28;01mreturn\u001b[39;00m \u001b[43m_impl\u001b[49m\u001b[43m(\u001b[49m\u001b[43marray\u001b[49m\u001b[43m,\u001b[49m\u001b[43m \u001b[49m\u001b[43maxis\u001b[49m\u001b[43m,\u001b[49m\u001b[43m \u001b[49m\u001b[43mhighlevel\u001b[49m\u001b[43m,\u001b[49m\u001b[43m \u001b[49m\u001b[43mbehavior\u001b[49m\u001b[43m,\u001b[49m\u001b[43m \u001b[49m\u001b[43mattrs\u001b[49m\u001b[43m)\u001b[49m\n",
      "File \u001b[0;32m/usr/local/lib/python3.12/dist-packages/awkward/operations/ak_flatten.py:257\u001b[0m, in \u001b[0;36m_impl\u001b[0;34m(array, axis, highlevel, behavior, attrs)\u001b[0m\n\u001b[1;32m    255\u001b[0m     out \u001b[38;5;241m=\u001b[39m apply(layout)\n\u001b[1;32m    256\u001b[0m \u001b[38;5;28;01melse\u001b[39;00m:\n\u001b[0;32m--> 257\u001b[0m     out \u001b[38;5;241m=\u001b[39m \u001b[43mak\u001b[49m\u001b[38;5;241;43m.\u001b[39;49m\u001b[43m_do\u001b[49m\u001b[38;5;241;43m.\u001b[39;49m\u001b[43mflatten\u001b[49m\u001b[43m(\u001b[49m\u001b[43mlayout\u001b[49m\u001b[43m,\u001b[49m\u001b[43m \u001b[49m\u001b[43maxis\u001b[49m\u001b[43m)\u001b[49m\n\u001b[1;32m    259\u001b[0m wrapped_out \u001b[38;5;241m=\u001b[39m ctx\u001b[38;5;241m.\u001b[39mwrap(\n\u001b[1;32m    260\u001b[0m     out,\n\u001b[1;32m    261\u001b[0m     highlevel\u001b[38;5;241m=\u001b[39mhighlevel,\n\u001b[1;32m    262\u001b[0m )\n\u001b[1;32m    264\u001b[0m \u001b[38;5;66;03m# propagate named axis to output\u001b[39;00m\n\u001b[1;32m    265\u001b[0m \u001b[38;5;66;03m#   if axis == None: use strategy \"remove all\" (see: awkward._namedaxis)\u001b[39;00m\n",
      "File \u001b[0;32m/usr/local/lib/python3.12/dist-packages/awkward/_do.py:196\u001b[0m, in \u001b[0;36mflatten\u001b[0;34m(layout, axis)\u001b[0m\n\u001b[1;32m    195\u001b[0m \u001b[38;5;28;01mdef\u001b[39;00m\u001b[38;5;250m \u001b[39m\u001b[38;5;21mflatten\u001b[39m(layout: Content, axis: \u001b[38;5;28mint\u001b[39m \u001b[38;5;241m=\u001b[39m \u001b[38;5;241m1\u001b[39m) \u001b[38;5;241m-\u001b[39m\u001b[38;5;241m>\u001b[39m Content:\n\u001b[0;32m--> 196\u001b[0m     offsets, flattened \u001b[38;5;241m=\u001b[39m \u001b[43mlayout\u001b[49m\u001b[38;5;241;43m.\u001b[39;49m\u001b[43m_offsets_and_flattened\u001b[49m\u001b[43m(\u001b[49m\u001b[43maxis\u001b[49m\u001b[43m,\u001b[49m\u001b[43m \u001b[49m\u001b[38;5;241;43m1\u001b[39;49m\u001b[43m)\u001b[49m\n\u001b[1;32m    197\u001b[0m     \u001b[38;5;28;01mreturn\u001b[39;00m flattened\n",
      "File \u001b[0;32m/usr/local/lib/python3.12/dist-packages/awkward/contents/recordarray.py:616\u001b[0m, in \u001b[0;36mRecordArray._offsets_and_flattened\u001b[0;34m(self, axis, depth)\u001b[0m\n\u001b[1;32m    613\u001b[0m     \u001b[38;5;28;01mraise\u001b[39;00m AxisError(\u001b[38;5;124m\"\u001b[39m\u001b[38;5;124maxis=0 not allowed for flatten\u001b[39m\u001b[38;5;124m\"\u001b[39m)\n\u001b[1;32m    615\u001b[0m \u001b[38;5;28;01melif\u001b[39;00m posaxis \u001b[38;5;129;01mis\u001b[39;00m \u001b[38;5;129;01mnot\u001b[39;00m \u001b[38;5;28;01mNone\u001b[39;00m \u001b[38;5;129;01mand\u001b[39;00m posaxis \u001b[38;5;241m+\u001b[39m \u001b[38;5;241m1\u001b[39m \u001b[38;5;241m==\u001b[39m depth \u001b[38;5;241m+\u001b[39m \u001b[38;5;241m1\u001b[39m:\n\u001b[0;32m--> 616\u001b[0m     \u001b[38;5;28;01mraise\u001b[39;00m \u001b[38;5;167;01mValueError\u001b[39;00m(\n\u001b[1;32m    617\u001b[0m         \u001b[38;5;124m\"\u001b[39m\u001b[38;5;124marrays of records cannot be flattened (but their contents can be; try a different \u001b[39m\u001b[38;5;124m'\u001b[39m\u001b[38;5;124maxis\u001b[39m\u001b[38;5;124m'\u001b[39m\u001b[38;5;124m)\u001b[39m\u001b[38;5;124m\"\u001b[39m\n\u001b[1;32m    618\u001b[0m     )\n\u001b[1;32m    620\u001b[0m \u001b[38;5;28;01melse\u001b[39;00m:\n\u001b[1;32m    621\u001b[0m     contents \u001b[38;5;241m=\u001b[39m []\n",
      "\u001b[0;31mValueError\u001b[0m: arrays of records cannot be flattened (but their contents can be; try a different 'axis')",
      "\u001b[0m\nThis error occurred while calling\n\n    ak.flatten(\n        <Array [{Electrons: [], ...}, ..., {...}] type='951830 * {Electrons...'>\n    )"
     ]
    }
   ],
   "source": [
    "def selected_electrons(el):\n",
    "    return el[(el.pt > 10 * GeV) & (abs(el.eta) < 2.47)]\n",
    "\n",
    "def electron_posi_muon_antimuon(events):\n",
    "    events['Electrons'] = selected_electrons(events.Electrons)\n",
    "    events['Muons'] = selected_muons(events.Muons)\n",
    "    \n",
    "    return events\n",
    "\n",
    "events = electron_posi_muon_antimuon(atlas_parser.events)\n",
    "plt.hist(ak.flatten(events) / GeV, axis=None, bins=100)\n",
    "plt.xlabel(\"Reconstructed Top Quark Mass (GeV)\")\n",
    "plt.ylabel(\"Number of Events\")\n",
    "plt.title(\"Distribution of Reconstructed Top Quark Mass\")\n",
    "plt.axvline(172.76, color='r', linestyle='dashed', linewidth=2, label='Expected Top Quark Mass')\n",
    "plt.legend()\n",
    "plt.show()\n",
    "\n",
    "print('Total events:', len(atlas_parser.events))\n",
    "print('Events after filtering:', len(events))"
   ]
  },
  {
   "cell_type": "code",
   "execution_count": null,
   "id": "01e9d32f",
   "metadata": {},
   "outputs": [],
   "source": []
  }
 ],
 "metadata": {
  "kernelspec": {
   "display_name": "Python 3",
   "language": "python",
   "name": "python3"
  },
  "language_info": {
   "codemirror_mode": {
    "name": "ipython",
    "version": 3
   },
   "file_extension": ".py",
   "mimetype": "text/x-python",
   "name": "python",
   "nbconvert_exporter": "python",
   "pygments_lexer": "ipython3",
   "version": "3.12.7"
  }
 },
 "nbformat": 4,
 "nbformat_minor": 5
}
