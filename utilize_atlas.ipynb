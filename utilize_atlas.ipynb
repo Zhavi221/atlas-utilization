{
 "cells": [
  {
   "cell_type": "code",
   "execution_count": null,
   "id": "cff11ca7-aab1-492b-90c1-1fc5d00faa22",
   "metadata": {
    "tags": [],
    "trusted": true
   },
   "outputs": [],
   "source": [
    "# Standard Library Imports\n",
    "import copy\n",
    "import os\n",
    "import sys\n",
    "import traceback\n",
    "\n",
    "# Third-Party Imports\n",
    "import matplotlib.pyplot as plt\n",
    "# import requests\n",
    "# import ROOT\n",
    "# import tqdm\n",
    "# import uproot\n",
    "import awkward as ak\n",
    "import vector\n",
    "vector.register_awkward()\n",
    "# from cernopendata_client import searcher\n",
    "\n",
    "# Local Application Imports\n",
    "module_path = os.path.abspath(os.path.join('..'))\n",
    "if module_path not in sys.path:\n",
    "    sys.path.append(module_path)\n",
    "from parse_atlas import consts, parser, schemas\n",
    "\n",
    "%load_ext autoreload\n",
    "%autoreload 2"
   ]
  },
  {
   "cell_type": "code",
   "execution_count": 34,
   "id": "30c8a1cc",
   "metadata": {},
   "outputs": [
    {
     "name": "stdout",
     "output_type": "stream",
     "text": [
      "Successfuly retrieved all indexes.\n",
      "Total amount of files found -  38\n"
     ]
    }
   ],
   "source": [
    "atlas_parser = parser.ATLAS_Parser()\n",
    "atlas_parser.get_records_file_index([consts.ATLAS_ELECTROWEAK_BOSON], file_idx=[consts.ZMUMU])\n",
    "# atlas_parser.get_records_file_index([consts.ATLAS_MC_TOP_NOMINAL])"
   ]
  },
  {
   "cell_type": "code",
   "execution_count": 36,
   "id": "b0caa1cf",
   "metadata": {},
   "outputs": [],
   "source": [
    "atlas_parser.parse_all_files(schemas.E_POSI_MUON_SCHEMA, limit = 50)"
   ]
  },
  {
   "cell_type": "code",
   "execution_count": null,
   "id": "45845ddf",
   "metadata": {},
   "outputs": [],
   "source": [
    "atlas_parser.save_events()\n",
    "atlas_parser.load_events_from_file()"
   ]
  },
  {
   "cell_type": "code",
   "execution_count": 38,
   "id": "35b48991-4b0c-4b3a-a23e-00e285c71b4b",
   "metadata": {
    "tags": [],
    "trusted": true
   },
   "outputs": [
    {
     "ename": "AttributeError",
     "evalue": "no field named 'BTagging_AntiKt4EMPFlow'",
     "output_type": "error",
     "traceback": [
      "\u001b[0;31m---------------------------------------------------------------------------\u001b[0m",
      "\u001b[0;31mAttributeError\u001b[0m                            Traceback (most recent call last)",
      "Cell \u001b[0;32mIn[38], line 40\u001b[0m\n\u001b[1;32m     33\u001b[0m     events \u001b[38;5;241m=\u001b[39m events[\n\u001b[1;32m     34\u001b[0m         (ak\u001b[38;5;241m.\u001b[39mnum(events\u001b[38;5;241m.\u001b[39mJets) \u001b[38;5;241m>\u001b[39m\u001b[38;5;241m=\u001b[39m \u001b[38;5;241m4\u001b[39m) \u001b[38;5;66;03m# at least 4 jets\u001b[39;00m\n\u001b[1;32m     35\u001b[0m         \u001b[38;5;241m&\u001b[39m ((ak\u001b[38;5;241m.\u001b[39mnum(events\u001b[38;5;241m.\u001b[39mElectrons) \u001b[38;5;241m+\u001b[39m ak\u001b[38;5;241m.\u001b[39mnum(events\u001b[38;5;241m.\u001b[39mMuons)) \u001b[38;5;241m==\u001b[39m \u001b[38;5;241m1\u001b[39m) \u001b[38;5;66;03m# exactly one lepton\u001b[39;00m\n\u001b[1;32m     36\u001b[0m         \u001b[38;5;241m&\u001b[39m (ak\u001b[38;5;241m.\u001b[39mnum(events\u001b[38;5;241m.\u001b[39mJets[events\u001b[38;5;241m.\u001b[39mJets\u001b[38;5;241m.\u001b[39mis_bjet]) \u001b[38;5;241m>\u001b[39m\u001b[38;5;241m=\u001b[39m \u001b[38;5;241m2\u001b[39m) \u001b[38;5;66;03m# at least two btagged jets with prob > 0.85\u001b[39;00m\n\u001b[1;32m     37\u001b[0m     ]\n\u001b[1;32m     38\u001b[0m     \u001b[38;5;28;01mreturn\u001b[39;00m ak\u001b[38;5;241m.\u001b[39mto_packed(events)\n\u001b[0;32m---> 40\u001b[0m events \u001b[38;5;241m=\u001b[39m \u001b[43mprocessed\u001b[49m\u001b[43m(\u001b[49m\u001b[43matlas_parser\u001b[49m\u001b[38;5;241;43m.\u001b[39;49m\u001b[43mevents\u001b[49m\u001b[43m)\u001b[49m\n\u001b[1;32m     41\u001b[0m plt\u001b[38;5;241m.\u001b[39mhist(ak\u001b[38;5;241m.\u001b[39mflatten(mjjj(events\u001b[38;5;241m.\u001b[39mJets) \u001b[38;5;241m/\u001b[39m GeV, axis\u001b[38;5;241m=\u001b[39m\u001b[38;5;28;01mNone\u001b[39;00m), bins\u001b[38;5;241m=\u001b[39m\u001b[38;5;241m100\u001b[39m)\n\u001b[1;32m     42\u001b[0m plt\u001b[38;5;241m.\u001b[39mxlabel(\u001b[38;5;124m\"\u001b[39m\u001b[38;5;124mReconstructed Top Quark Mass (GeV)\u001b[39m\u001b[38;5;124m\"\u001b[39m)\n",
      "Cell \u001b[0;32mIn[38], line 27\u001b[0m, in \u001b[0;36mprocessed\u001b[0;34m(events)\u001b[0m\n\u001b[1;32m     25\u001b[0m \u001b[38;5;28;01mdef\u001b[39;00m\u001b[38;5;250m \u001b[39m\u001b[38;5;21mprocessed\u001b[39m(events):\n\u001b[1;32m     26\u001b[0m     events \u001b[38;5;241m=\u001b[39m copy\u001b[38;5;241m.\u001b[39mcopy(events) \u001b[38;5;66;03m# shallow copy\u001b[39;00m\n\u001b[0;32m---> 27\u001b[0m     events[\u001b[38;5;124m\"\u001b[39m\u001b[38;5;124mJets\u001b[39m\u001b[38;5;124m\"\u001b[39m, \u001b[38;5;124m\"\u001b[39m\u001b[38;5;124mbtag_prob\u001b[39m\u001b[38;5;124m\"\u001b[39m] \u001b[38;5;241m=\u001b[39m \u001b[43mevents\u001b[49m\u001b[38;5;241;43m.\u001b[39;49m\u001b[43mBTagging_AntiKt4EMPFlow\u001b[49m\u001b[38;5;241m.\u001b[39mDL1dv01_pb\n\u001b[1;32m     28\u001b[0m     events[\u001b[38;5;124m\"\u001b[39m\u001b[38;5;124mElectrons\u001b[39m\u001b[38;5;124m\"\u001b[39m] \u001b[38;5;241m=\u001b[39m selected_electrons(events\u001b[38;5;241m.\u001b[39mElectrons)\n\u001b[1;32m     29\u001b[0m     events[\u001b[38;5;124m\"\u001b[39m\u001b[38;5;124mMuons\u001b[39m\u001b[38;5;124m\"\u001b[39m] \u001b[38;5;241m=\u001b[39m selected_muons(events\u001b[38;5;241m.\u001b[39mMuons)\n",
      "File \u001b[0;32m/usr/local/lib/python3.12/dist-packages/awkward/highlevel.py:1299\u001b[0m, in \u001b[0;36mArray.__getattr__\u001b[0;34m(self, where)\u001b[0m\n\u001b[1;32m   1294\u001b[0m         \u001b[38;5;28;01mraise\u001b[39;00m \u001b[38;5;167;01mAttributeError\u001b[39;00m(\n\u001b[1;32m   1295\u001b[0m             \u001b[38;5;124mf\u001b[39m\u001b[38;5;124m\"\u001b[39m\u001b[38;5;124mwhile trying to get field \u001b[39m\u001b[38;5;132;01m{\u001b[39;00mwhere\u001b[38;5;132;01m!r}\u001b[39;00m\u001b[38;5;124m, an exception \u001b[39m\u001b[38;5;124m\"\u001b[39m\n\u001b[1;32m   1296\u001b[0m             \u001b[38;5;124mf\u001b[39m\u001b[38;5;124m\"\u001b[39m\u001b[38;5;124moccurred:\u001b[39m\u001b[38;5;130;01m\\n\u001b[39;00m\u001b[38;5;132;01m{\u001b[39;00m\u001b[38;5;28mtype\u001b[39m(err)\u001b[38;5;132;01m}\u001b[39;00m\u001b[38;5;124m: \u001b[39m\u001b[38;5;132;01m{\u001b[39;00merr\u001b[38;5;132;01m!s}\u001b[39;00m\u001b[38;5;124m\"\u001b[39m\n\u001b[1;32m   1297\u001b[0m         ) \u001b[38;5;28;01mfrom\u001b[39;00m\u001b[38;5;250m \u001b[39m\u001b[38;5;21;01merr\u001b[39;00m\n\u001b[1;32m   1298\u001b[0m \u001b[38;5;28;01melse\u001b[39;00m:\n\u001b[0;32m-> 1299\u001b[0m     \u001b[38;5;28;01mraise\u001b[39;00m \u001b[38;5;167;01mAttributeError\u001b[39;00m(\u001b[38;5;124mf\u001b[39m\u001b[38;5;124m\"\u001b[39m\u001b[38;5;124mno field named \u001b[39m\u001b[38;5;132;01m{\u001b[39;00mwhere\u001b[38;5;132;01m!r}\u001b[39;00m\u001b[38;5;124m\"\u001b[39m)\n",
      "\u001b[0;31mAttributeError\u001b[0m: no field named 'BTagging_AntiKt4EMPFlow'"
     ]
    }
   ],
   "source": [
    "def selected_electrons(el):\n",
    "    return el[(el.pt > 30 * consts.GeV) & (abs(el.eta) < 2.47)]\n",
    "\n",
    "def selected_muons(mu):\n",
    "    return mu[(mu.pt > 30 * consts.GeV) & (abs(mu.eta) < 2.47)]\n",
    "\n",
    "def selected_jets(j):\n",
    "    return j[(j.pt > 30 * consts.GeV) & (abs(j.eta) < 2.47)]\n",
    "\n",
    "def no_overlap(obj1, obj2, deltaR=0.4):\n",
    "    obj1, obj2 = ak.unzip(ak.cartesian([obj1, obj2], nested=True))\n",
    "    return ak.all(obj1.deltaR(obj2) > deltaR, axis=-1)\n",
    "\n",
    "def mjjj(jets):\n",
    "    candidates = ak.combinations(jets, 3)\n",
    "    j1, j2, j3 = ak.unzip(candidates)\n",
    "    has_b = (j1.is_bjet + j2.is_bjet + j3.is_bjet) > 0\n",
    "    candidates[\"p4\"] = j1 + j2 + j3\n",
    "    candidates = candidates[has_b]\n",
    "    candidates = candidates[ak.argmax(candidates.p4.pt, axis=1, keepdims=True)]\n",
    "    return candidates.p4.mass\n",
    "\n",
    "def processed(events):\n",
    "    events = copy.copy(events) # shallow copy\n",
    "    events[\"Jets\", \"btag_prob\"] = events.BTagging_AntiKt4EMPFlow.DL1dv01_pb\n",
    "    events[\"Electrons\"] = selected_electrons(events.Electrons)\n",
    "    events[\"Muons\"] = selected_muons(events.Muons)\n",
    "    events[\"Jets\"] = selected_jets(events.Jets)\n",
    "    events[\"Jets\"] = events.Jets[no_overlap(events.Jets, events.Electrons)]\n",
    "    events[\"Jets\", \"is_bjet\"] = events.Jets.btag_prob > 0.85\n",
    "    events = events[\n",
    "        (ak.num(events.Jets) >= 4) # at least 4 jets\n",
    "        & ((ak.num(events.Electrons) + ak.num(events.Muons)) == 1) # exactly one lepton\n",
    "        & (ak.num(events.Jets[events.Jets.is_bjet]) >= 2) # at least two btagged jets with prob > 0.85\n",
    "    ]\n",
    "    return ak.to_packed(events)\n",
    "\n",
    "events = processed(atlas_parser.events)\n",
    "plt.hist(ak.flatten(mjjj(events.Jets) / consts.GeV, axis=None), bins=1000)\n",
    "plt.xlabel(\"Reconstructed Top Quark Mass (GeV)\")\n",
    "plt.ylabel(\"Number of Events\")\n",
    "plt.title(\"Distribution of Reconstructed Top Quark Mass\")\n",
    "plt.axvline(172.76, color='r', linestyle='dashed', linewidth=2, label='Expected Top Quark Mass')\n",
    "plt.legend()\n",
    "plt.show()\n",
    "\n",
    "print('Total events:', f\"{len(atlas_parser.events):,}\")\n",
    "print('Events after filtering:', f\"{len(events):,}\")"
    "print('Total events:', f\"{len(atlas_parser.events):,}\")\n",
    "print('Events after filtering:', f\"{len(events):,}\")"
   ]
  },
  {
   "cell_type": "code",
   "execution_count": null,
   "id": "62bbd7e9-30d8-4976-a96d-e9f692838c87",
   "metadata": {},
   "outputs": [],
   "source": [
    "def selected_muons(mu):\n",
    "    return mu[(mu.pt > 30 * consts.GeV) & (abs(mu.eta) < 2.5)]\n",
    "\n",
    "def selected_electrons(el):\n",
    "    return el[(el.pt > 30 * consts.GeV) & (abs(el.eta) < 2.47)]\n",
    "\n",
    "def electron_posi_muon_antimuon(events):\n",
    "    events = copy.copy(events) # shallow copy\n",
    "    events[\"Electrons\"] = selected_electrons(events.Electrons)\n",
    "    events[\"Muons\"] = selected_muons(events.Muons)\n",
    "    events[\"Electrons\", \"is_neg\"] = events.Electrons.charge < 0\n",
    "    events[\"Muons\", \"is_neg\"] = events.Muons.charge < 0\n",
    "    events = events[\n",
    "        ((ak.num(events.Electrons) == 2) | (ak.num(events.Muons) == 2))\n",
    "        & ((ak.num(events.Electrons[events.Electrons.is_neg]) == 1) \n",
    "           | (ak.num(events.Muons[events.Muons.is_neg]) == 1))\n",
    "        (ak.num(events.Electrons) == 2) # Exactly two electrons\n",
    "        | (ak.num(events.Muons) == 2)  # Exactly two muons\n",
    "        & (ak.num(events.Electrons[events.Electrons.is_neg]) == 1) # Ensure positron\n",
    "        | (ak.num(events.Muons[events.Muons.is_neg]) == 1)  # One negative muon\n",
    "    ]\n",
    "    return ak.to_packed(events)\n",
    "\n",
    "def combine_four_momenta(electrons, muons):\n",
    "    electron_candidates = ak.combinations(electrons, 1)\n",
    "    e1 = ak.unzip(electron_candidates)\n",
    "    electron_p4 = e1\n",
    "    # # return electron_p4.to_ptphietamass().mass\n",
    "\n",
    "    muon_candidates = ak.combinations(muons, 1)\n",
    "    m1 = ak.unzip(muon_candidates)\n",
    "    muon_p4 = m1\n",
    "\n",
    "    # Create all combinations of electron pairs and muon pairs\n",
    "    combined_candidates = ak.cartesian([electron_p4, muon_p4])\n",
    "\n",
    "    # Extract the electron and muon pairs from the combined candidates\n",
    "    electron_p4_combined, muon_p4_combined = ak.unzip(combined_candidates)\n",
    "    muon_candidates = ak.combinations(muons, 2)\n",
    "    m1, m2 = ak.unzip(muon_candidates)\n",
    "    muon_p4 = m1 + m2\n",
    "\n",
    "    Combine the four-momenta of the electron and muon pairs\n",
    "    combined_p4 = electron_p4_combined + muon_p4_combined\n",
    "\n",
    "    Return the invariant mass of the combined four-momenta\n",
    "    return combined_p4.to_ptphietamass().mass\n",
    "\n",
    "# Process the events\n",
    "# atlas_parser.load_events_from_file(consts.ATLAS_ELECTROWEAK_BOSON_DATA)\n",
    "# events = electron_posi_muon_antimuon(atlas_parser.events)\n",
    "print(events)\n",
    "# Calculate the invariant mass for each event\n",
    "inv_mass = combine_four_momenta(events.Electrons, events.Muons)\n",
    "\n",
    "# Plot the invariant mass distribution\n",
    "plt.hist(ak.flatten(inv_mass / consts.GeV), bins=100, range=(0, 500))\n",
    "plt.xlabel(\"Invariant Mass (GeV)\")\n",
    "plt.ylabel(\"Number of Events\")\n",
    "plt.title(\"Distribution of Electron, Positron, Muon and Anti Muon\")\n",
    "plt.title(\"Distribution of Electron, Positron, Muon and Anti Muon\")\n",
    "plt.legend()\n",
    "plt.show()\n",
    "\n",
    "print('Total events:', f\"{len(atlas_parser.events):,}\")\n",
    "print('Events after filtering:', f\"{len(events):,}\")"
   ]
  },
  {
   "cell_type": "code",
   "execution_count": null,
   "id": "01e9d32f",
   "metadata": {},
   "outputs": [],
   "source": []
  }
 ],
 "metadata": {
  "kernelspec": {
   "display_name": "Python 3",
   "language": "python",
   "name": "python3"
  },
  "language_info": {
   "codemirror_mode": {
    "name": "ipython",
    "version": 3
   },
   "file_extension": ".py",
   "mimetype": "text/x-python",
   "name": "python",
   "nbconvert_exporter": "python",
   "pygments_lexer": "ipython3",
   "version": "3.13.1"
  }
 },
 "nbformat": 4,
 "nbformat_minor": 5
}
